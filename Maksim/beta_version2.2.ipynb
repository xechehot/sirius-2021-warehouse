{
  "nbformat": 4,
  "nbformat_minor": 0,
  "metadata": {
    "colab": {
      "name": "Untitled1.ipynb",
      "provenance": [],
      "authorship_tag": "ABX9TyOtNkYueCr4pDstp00frnqy",
      "include_colab_link": true
    },
    "kernelspec": {
      "name": "python3",
      "display_name": "Python 3"
    },
    "language_info": {
      "name": "python"
    }
  },
  "cells": [
    {
      "cell_type": "markdown",
      "metadata": {
        "id": "view-in-github",
        "colab_type": "text"
      },
      "source": [
        "<a href=\"https://colab.research.google.com/github/xechehot/sirius-2021-warehouse/blob/main/Maksim/beta_version2.2.ipynb\" target=\"_parent\"><img src=\"https://colab.research.google.com/assets/colab-badge.svg\" alt=\"Open In Colab\"/></a>"
      ]
    },
    {
      "cell_type": "code",
      "source": [
        "def get_dist_for_1_path(sx, sy, block, data_for_ans): #data_for_ans - для ячейки храним какой заказ в ней\n",
        "    x = sx\n",
        "    y = sy\n",
        "    dist = 0\n",
        "    ans = []\n",
        "    d = -1\n",
        "    N = len(block)\n",
        "    M = len(block[0])\n",
        "    if (sy == 0): d = 1\n",
        "    end = -1\n",
        "    if (d == -1):\n",
        "        for i in range(M):\n",
        "            if (block[:, i].sum() == 0):\n",
        "                end = i\n",
        "            else: break\n",
        "    else:\n",
        "        for i in range(M - 1, -1, -1):\n",
        "            if (block[:, i].sum() == 0):\n",
        "                end = i\n",
        "            else: break\n",
        "    while True:\n",
        "        if x < 0 or y < 0 or x >= N or y >= M or y == end: break\n",
        "        if (block[:, y].sum() == 0):\n",
        "            dist += 2\n",
        "            y += d\n",
        "            continue\n",
        "        if x == N - 1: #идем вверх\n",
        "            for nx in range(N - 1, -1, -1):\n",
        "                if block[nx][y] != 0: \n",
        "                    ans.append(data_for_ans[nx][y])\n",
        "        else: # идем вниз\n",
        "            for nx in range(0, N):\n",
        "                if (block[nx][y] != 0):\n",
        "                    ans.append(data_for_ans[nx][y])\n",
        "        dist += N\n",
        "        dist += 2\n",
        "        x = abs(x - (N - 1))\n",
        "        y += d\n",
        "    dist -= 2\n",
        "\n",
        "    #if x == N - 1: dist += N\n",
        "    return [get_normal_dist(ans), ans]\n",
        "\n",
        "\n"
      ],
      "metadata": {
        "id": "dBkegEjjn0HC"
      },
      "execution_count": 95,
      "outputs": []
    },
    {
      "cell_type": "code",
      "source": [
        "def get_next(places):\n",
        "    for _ in range(3):\n",
        "        i = rand(0, len(places) - 1)\n",
        "        j = rand(0, len(places) - 1)\n",
        "        if i == j:\n",
        "            i = rand(0, len(places) - 1)\n",
        "            j = rand(0, len(places) - 1)\n",
        "        if i == j:\n",
        "            i = rand(0, len(places) - 1)\n",
        "            j = rand(0, len(places) - 1)\n",
        "        if i > j: i, j = j, i\n",
        "        if i != 0: places[i:j + 1] = places[j:i - 1:-1]\n",
        "        else: places[i:j + 1] = places[j::-1]\n",
        "        #places[i], places[j] = places[j], places[i]\n",
        "    return places\n",
        "\n",
        "def get_dist_with_annealing(places):\n",
        "    t = 1\n",
        "    dist = get_normal_dist(places)\n",
        "    cnt = 0\n",
        "    for _ in range(1000):\n",
        "        new = get_next(places[::])\n",
        "        new_dist = get_normal_dist(new)\n",
        "        if (new_dist < dist):\n",
        "            dist = new_dist\n",
        "            places = new\n",
        "        elif (new_dist > dist):\n",
        "            #print(math.exp((dist - new_dist) / t))\n",
        "            if (math.exp((dist - new_dist) / t) > rand(0, 10**6) / 10**6):\n",
        "                places = new\n",
        "                dist = new_dist\n",
        "        t = t * 0.99\n",
        "    return [dist, places]\n"
      ],
      "metadata": {
        "id": "IGsL4dYku3CE"
      },
      "execution_count": 96,
      "outputs": []
    },
    {
      "cell_type": "code",
      "source": [
        "from random import randint as rand\n",
        "import numpy\n",
        "import json\n",
        "import math"
      ],
      "metadata": {
        "id": "tAvB_gl3rvKw"
      },
      "execution_count": 97,
      "outputs": []
    },
    {
      "cell_type": "code",
      "source": [
        "! git clone https://github.com/xechehot/sirius-2021-warehouse.git"
      ],
      "metadata": {
        "id": "cQnsFSZsttsw",
        "outputId": "27e80c5b-70b9-44ea-ea4a-fcbc07e1cf40",
        "colab": {
          "base_uri": "https://localhost:8080/"
        }
      },
      "execution_count": 6,
      "outputs": [
        {
          "output_type": "stream",
          "name": "stdout",
          "text": [
            "fatal: destination path 'sirius-2021-warehouse' already exists and is not an empty directory.\n"
          ]
        }
      ]
    },
    {
      "cell_type": "code",
      "source": [
        "! cd sirius-2021-warehouse; git pull"
      ],
      "metadata": {
        "id": "54mv1RzGqm4U",
        "outputId": "bcd574a6-e7bb-4505-e677-528a015ca8d6",
        "colab": {
          "base_uri": "https://localhost:8080/"
        }
      },
      "execution_count": 5,
      "outputs": [
        {
          "output_type": "stream",
          "name": "stdout",
          "text": [
            "Already up to date.\n"
          ]
        }
      ]
    },
    {
      "cell_type": "code",
      "source": [
        "rows = sample_data['warehouse']['meta']['rows']\n",
        "sections = sample_data['warehouse']['meta']['sections']\n",
        "block_x = sample_data['warehouse']['meta']['block_x']\n",
        "block_y = sample_data['warehouse']['meta']['block_y']\n",
        "floors = sample_data['warehouse']['meta']['floors']\n",
        "batch = sample_data['batch_size']\n",
        "b_sz = 32\n",
        "N = rows // 2 + 1\n",
        "M = sections + 1"
      ],
      "metadata": {
        "id": "IQ2NdvQ-J3xe"
      },
      "execution_count": 115,
      "outputs": []
    },
    {
      "cell_type": "code",
      "source": [
        "def get_places(cnt_products, product_place): #ищу ячейки, куда нужно зайти\n",
        "    ans = []\n",
        "    for id in product_set:\n",
        "        product_place[id].sort(key = lambda a: -block_popular[a['p']['floor'] - 1][get_place_block(a['p'])]) #????????\n",
        "    for id in product_set:\n",
        "        have = cnt_products[id]\n",
        "        ind = 0\n",
        "        while (have > 0 and ind < len(product_place[id])):\n",
        "            sample_data['warehouse']['stock'].remove(product_place[id][ind])\n",
        "            if (product_place[id][ind]['count'] >= have):\n",
        "                ans.append([product_place[id][ind]['p'], have])\n",
        "                product_place[id][ind]['count'] -= have\n",
        "                sample_data['warehouse']['stock'].append(product_place[id][ind])\n",
        "                have = 0\n",
        "            else:\n",
        "                ans.append([product_place[id][ind]['p'], product_place[id][ind]['count']])\n",
        "                have -= product_place[id][ind]['count']\n",
        "            ind += 1\n",
        "    return ans"
      ],
      "metadata": {
        "id": "RRrYNHj4_YiX"
      },
      "execution_count": 99,
      "outputs": []
    },
    {
      "cell_type": "code",
      "source": [
        "def distribute_data(places): #разделяю ячейки по этажам, блокам \n",
        "    ans = [[[[] for i1 in range(block_y)] for i2 in range(block_x)] for i3 in range(floors)]\n",
        "    for place in places:\n",
        "        ans[place[0]['floor'] - 1][place[0]['block_x'] - 1][place[0]['block_y'] - 1].append(place)\n",
        "    return ans"
      ],
      "metadata": {
        "id": "XSsU4KblN3VY"
      },
      "execution_count": 100,
      "outputs": []
    },
    {
      "cell_type": "code",
      "source": [
        "def conv_place(place):\n",
        "    return [place['row'] // 2, place['section']]"
      ],
      "metadata": {
        "id": "xci9Zc4eWa7h"
      },
      "execution_count": 101,
      "outputs": []
    },
    {
      "cell_type": "code",
      "source": [
        "def dist_to_start(place): \n",
        "    ans = 0\n",
        "    dy = int(abs(block_y // 2 + 0.5 - place['block_y']) + 0.5) - 1\n",
        "    ans += dy * (rows + 2) #расстояние по горизонтали к центру\n",
        "    ans += (block_x - place['block_x']) * (sections + 2) #расстояние по вертикали к низу\n",
        "    if (place['block_y'] <= block_y // 2): ans += (rows - place['row']) #расстояние внутри блока\n",
        "    else: ans += place['row']\n",
        "    ans += (sections + 1 - place['section'])\n",
        "    return ans"
      ],
      "metadata": {
        "id": "TICqXHWu2o8x"
      },
      "execution_count": 102,
      "outputs": []
    },
    {
      "cell_type": "code",
      "source": [
        "def dist_to_tape(place):\n",
        "    ans = place['section'] + (place['block_x'] - 1) * (sections)\n",
        "    return ans"
      ],
      "metadata": {
        "id": "uyDzbNUhzoeN"
      },
      "execution_count": 103,
      "outputs": []
    },
    {
      "cell_type": "code",
      "source": [
        "def get_ans_for_1_block(data, sx, sy):\n",
        "    block = numpy.zeros((N, M), int)\n",
        "    list_of_products = [[-1 for i in range(M)] for j in range(N)]\n",
        "    #print(data)\n",
        "    bx, by = -1, -1\n",
        "    for place, cnt in data:\n",
        "        x, y = conv_place(place)\n",
        "        bx = place['block_x']\n",
        "        by = place['block_y']\n",
        "        block[x, y] += cnt\n",
        "        list_of_products[x][y] = [place, cnt]\n",
        "    s_dist, s_paths = get_dist_for_1_path(sx, sy, block, list_of_products)\n",
        "    dist, paths = get_dist_with_annealing(s_paths)\n",
        "    ans = []\n",
        "    cur = []\n",
        "    sum = 0\n",
        "    #print(paths)\n",
        "    for place, cnt in paths:\n",
        "        if (sum + cnt <= 32):\n",
        "            cur.append([place, cnt])\n",
        "            if sum == 0:\n",
        "                dist += dist_to_start(place)\n",
        "            sum += cnt\n",
        "        else:\n",
        "            exist = cnt\n",
        "            while exist > 0:\n",
        "                now = min(exist, 32 - sum)\n",
        "                cur.append([place, now])\n",
        "                if sum == 0:\n",
        "                    dist += dist_to_start(place)\n",
        "                sum += now\n",
        "                exist -= now\n",
        "                if (sum == 32):\n",
        "                    dist += dist_to_tape(place) * 2\n",
        "                    dist += dist_to_start(place)\n",
        "                    ans.append(cur)\n",
        "                    cur = []\n",
        "                    sum = 0\n",
        "        if (sum == 32):\n",
        "            dist += dist_to_tape(place) * 2\n",
        "            dist += dist_to_start(place)\n",
        "            ans.append(cur)\n",
        "            cur = []\n",
        "            sum = 0\n",
        "    if (cur != []):\n",
        "        dist += dist_to_tape(cur[-1][0]) * 2\n",
        "        dist += dist_to_start(cur[-1][0])\n",
        "        ans.append(cur)\n",
        "        cur = []\n",
        "        sum = 0\n",
        "    return [ans, dist]\n",
        "    \n",
        "\n"
      ],
      "metadata": {
        "id": "uMmLZ7NcXJ9t"
      },
      "execution_count": 104,
      "outputs": []
    },
    {
      "cell_type": "code",
      "source": [
        "    def get_dist_2_places(p1, p2):\n",
        "        ans = 0\n",
        "        if p1['block_x'] != p2['block_x'] or p1['block_y'] != p2['block_y'] or p1['row'] != p2['row']:\n",
        "            if p1['block_x'] > p2['block_x']: p1, p2 = p2, p1\n",
        "            if p1['block_x'] != p2['block_x']:\n",
        "                ans += (p2['block_x'] - p1['block_x'] - 1) * sections\n",
        "            ans += (p2['block_x'] - p1['block_x']) * 2 - 1\n",
        "            ans += min(p1['section'] + p2['section'], 2 * sections - p1['section'] - p2['section'] + 2)\n",
        "            if p1['block_y'] > p2['block_y']: p1, p2 = p2, p1\n",
        "            ans += (rows - p1['row'] + 1) + p2['row']\n",
        "            if p1['block_y'] != p2['block_y']:\n",
        "                ans += (p2['block_y'] - p1['block_y'] - 1) * rows\n",
        "            ans += (p2['block_y'] - p1['block_y']) * 2 - 1\n",
        "            return ans\n",
        "        else:\n",
        "            return abs(p1['section'] - p2['section'])"
      ],
      "metadata": {
        "id": "dihv_W1HRPzG"
      },
      "execution_count": 126,
      "outputs": []
    },
    {
      "cell_type": "code",
      "source": [
        "def get_path_len(path):\n",
        "    ans = 0\n",
        "    for place, cnt in path:\n",
        "        ans += cnt\n",
        "    return ans\n",
        "\n",
        "def get_ans_for_1_floor(paths): # возвращает пару ответ и изменение dist\n",
        "    delta = 0\n",
        "    res = []\n",
        "    ans = [[] for i in range(block_x * block_y)]\n",
        "    for path in paths:\n",
        "        if (get_path_len(path) == 32):\n",
        "            res.append(path)\n",
        "            continue\n",
        "        num = (path[0][0]['block_x'] - 1) * block_y\n",
        "        if path[0][0]['block_x'] == 1: num += path[0][0]['block_y'] - 1\n",
        "        else: num += (block_y - path[0][0]['block_y'])\n",
        "        ans[num] = path\n",
        "    last = []\n",
        "    for path in ans:\n",
        "        if path == []: continue\n",
        "        if last == []:\n",
        "            last = path\n",
        "        else:\n",
        "            if (get_path_len(last) + get_path_len(path) <= 32):\n",
        "                add = get_dist_2_places(last[-1][0], path[0][0])\n",
        "                sub = dist_to_start(last[-1][0]) + dist_to_start(path[0][0]) + dist_to_tape(last[-1][0]) * 2\n",
        "                if (add < sub):\n",
        "                    delta += add\n",
        "                    delta -= sub\n",
        "                    for elem in path: last.append(elem)\n",
        "                else:\n",
        "                    res.append(last)\n",
        "                    last = path\n",
        "            else:\n",
        "                res.append(last)\n",
        "                last = path\n",
        "    if (last != []): res.append(last)\n",
        "    return [res, delta]\n",
        "\n",
        "\n",
        "\n",
        "\n"
      ],
      "metadata": {
        "id": "bXll87sQDqoU"
      },
      "execution_count": 106,
      "outputs": []
    },
    {
      "cell_type": "code",
      "source": [
        "product_place = {}\n",
        "cnt_products = {}\n",
        "product_set = set()\n",
        "super_block = 0\n",
        "super_floor = 0\n",
        "block_popular = [[0 for i in range(block_x * block_y)] for j in range(floors)]"
      ],
      "metadata": {
        "id": "gvIcN5ojMNL8"
      },
      "execution_count": 114,
      "outputs": []
    },
    {
      "cell_type": "code",
      "source": [
        "def prepair_product_place():\n",
        "    for product in sample_data['warehouse']['stock']:\n",
        "        if product_place.get(product['id']) == None:\n",
        "            product_place[product['id']] = []\n",
        "        product_place[product['id']].append(product)\n",
        "def prepair_cnt_products():\n",
        "    for i in range(min(len(sample_data['orders']), batch)):\n",
        "        order = sample_data['orders'][0]\n",
        "        sample_data['orders'].pop(0)\n",
        "        for product in order['items']:\n",
        "            product_set.add(product['id'])\n",
        "            if (cnt_products.get(product['id']) == None):\n",
        "                cnt_products[product['id']] = 0\n",
        "            cnt_products[product['id']] += product['count']\n",
        "    "
      ],
      "metadata": {
        "id": "EqOYhraUCoo3"
      },
      "execution_count": 108,
      "outputs": []
    },
    {
      "cell_type": "code",
      "source": [
        "def get_normal_dist(path):\n",
        "    ans = 0\n",
        "    ans += dist_to_start(path[0][0]) + dist_to_start(path[-1][0])\n",
        "    ans += dist_to_tape(path[-1][0]) * 2\n",
        "    for i in range(len(path) - 1):\n",
        "        ans += get_dist_2_places(path[i][0], path[i + 1][0])\n",
        "    return ans"
      ],
      "metadata": {
        "id": "LmGTX6BTlp_M"
      },
      "execution_count": 109,
      "outputs": []
    },
    {
      "cell_type": "code",
      "source": [
        "def get_where_exist(order):\n",
        "    cnt1 = 0\n",
        "    cnt2 = 0\n",
        "    for product in order:\n",
        "        place = product_place[product['id']][0]\n",
        "        if (place['p']['block_y'] <= block_y // 2):\n",
        "            cnt1 += product['count']\n",
        "        cnt2 += product['count']\n",
        "    return cnt1 / cnt2\n",
        "def exist_in_most_popular_block(order):\n",
        "    cnt1 = 0\n",
        "    cnt2 = 0\n",
        "    for product in order:\n",
        "        sum = 0\n",
        "        for place in product_place[product['id']]:\n",
        "            if place['p']['floor'] - 1 == super_floor and get_place_block(place['p']) == super_block:\n",
        "                sum += place['count']\n",
        "        cnt1 += min(product['count'], sum)\n",
        "        cnt2 += product['count']\n",
        "    return -cnt1 / cnt2\n",
        "\n",
        "def sort_orders():\n",
        "    sample_data['orders'].sort(key = lambda x: exist_in_most_popular_block(x['items']))\n"
      ],
      "metadata": {
        "id": "AtZhet3q4gU2"
      },
      "execution_count": 110,
      "outputs": []
    },
    {
      "cell_type": "code",
      "source": [
        "def get_place_block(place):\n",
        "    return (place['block_x'] - 1) * block_y + place['block_y'] - 1\n",
        "\n",
        "def count_blocks_popular():\n",
        "    global super_floor, super_block\n",
        "    for order in sample_data['orders']:\n",
        "        cnt2 = 0\n",
        "        for product in order['items']:\n",
        "            cnt2 += product['count']\n",
        "        for product in order['items']:\n",
        "            for place in product_place[product['id']]:\n",
        "                block_popular[place['p']['floor'] - 1][get_place_block(place['p'])] += min(place['count'], product['count']) / cnt2\n",
        "                if (block_popular[place['p']['floor'] - 1][get_place_block(place['p'])] > block_popular[super_floor][super_block]):\n",
        "                    super_floor = place['p']['floor'] - 1\n",
        "                    super_block = get_place_block(place['p'])\n"
      ],
      "metadata": {
        "id": "V9GmZpQsqVa8"
      },
      "execution_count": 111,
      "outputs": []
    },
    {
      "cell_type": "code",
      "source": [
        "with open('sirius-2021-warehouse/data_sample/sample_3200_4.json') as f:\n",
        "    sample_data = json.load(f)"
      ],
      "metadata": {
        "id": "ucG8TSzIEOca"
      },
      "execution_count": 127,
      "outputs": []
    },
    {
      "cell_type": "code",
      "source": [
        "#with open('sirius-2021-warehouse/data_sample/sample_3200_4.json') as f:\n",
        "#    sample_data = json.load(f)\n",
        "sum_dist = 0\n",
        "cnt = 0\n",
        "for order in sample_data['orders']:\n",
        "    for product in order['items']:\n",
        "        cnt += product['count']\n",
        "for i in range((len(sample_data['orders']) - 1) // batch + 1):\n",
        "    cnt_products = {}\n",
        "    product_set = set()\n",
        "    product_place = {}\n",
        "    block_popular = [[0 for i in range(block_x * block_y)] for j in range(floors)]\n",
        "    prepair_product_place()\n",
        "    super_block = 0\n",
        "    super_floor = 0\n",
        "    count_blocks_popular()\n",
        "    #print(super_block, super_floor)\n",
        "    sort_orders()\n",
        "    prepair_cnt_products()\n",
        "    #print(block_popular[super_floor][super_block])\n",
        "    #print(block_popular)\n",
        "    #break\n",
        "    #print(block_popular)\n",
        "    places = get_places(cnt_products, product_place)\n",
        "    dis = distribute_data(places)\n",
        "    dist = 0\n",
        "    ans_for_floors = [[] for i in range(floors)]\n",
        "    for floor in range(floors):\n",
        "        for bx in range(block_x):\n",
        "            for by in range(block_y):\n",
        "                if (dis[floor][bx][by] == []): continue\n",
        "                sx = N - 1\n",
        "                if (by >= 2): sx = 0\n",
        "                p_ans, p_dist = get_ans_for_1_block(dis[floor][bx][by], sx, 0)\n",
        "                dist += p_dist\n",
        "                for elem in p_ans: \n",
        "                    ans_for_floors[floor].append(elem)\n",
        "    ans = []\n",
        "    for i in range(floors):\n",
        "        p_ans, delta = get_ans_for_1_floor(ans_for_floors[i])\n",
        "        for elem in p_ans: ans.append(elem)\n",
        "        dist += delta\n",
        "    #print(dist, delta)\n",
        "    dist_ans = 0\n",
        "    for path in ans:\n",
        "        dist_ans += get_normal_dist(path)\n",
        "    #print(dist_ans)\n",
        "    sum_dist += dist_ans\n",
        "print(sum_dist / cnt)\n"
      ],
      "metadata": {
        "id": "POgvaaiANbLa",
        "outputId": "4d0306e7-5d96-4605-bea9-65a5b25c1cb7",
        "colab": {
          "base_uri": "https://localhost:8080/"
        }
      },
      "execution_count": 128,
      "outputs": [
        {
          "output_type": "stream",
          "name": "stdout",
          "text": [
            "10.16025641025641\n"
          ]
        }
      ]
    }
  ]
}