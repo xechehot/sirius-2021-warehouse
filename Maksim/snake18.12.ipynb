{
  "nbformat": 4,
  "nbformat_minor": 0,
  "metadata": {
    "colab": {
      "name": "Untitled1.ipynb",
      "provenance": [],
      "authorship_tag": "ABX9TyOpxF0ynHQZztxaFKla/KMj",
      "include_colab_link": true
    },
    "kernelspec": {
      "name": "python3",
      "display_name": "Python 3"
    },
    "language_info": {
      "name": "python"
    }
  },
  "cells": [
    {
      "cell_type": "markdown",
      "metadata": {
        "id": "view-in-github",
        "colab_type": "text"
      },
      "source": [
        "<a href=\"https://colab.research.google.com/github/xechehot/sirius-2021-warehouse/blob/main/Maksim/snake18.12.ipynb\" target=\"_parent\"><img src=\"https://colab.research.google.com/assets/colab-badge.svg\" alt=\"Open In Colab\"/></a>"
      ]
    },
    {
      "cell_type": "code",
      "execution_count": null,
      "metadata": {
        "id": "SAK4eGBagnZz"
      },
      "outputs": [],
      "source": [
        "from random import randint as rand\n",
        "import numpy"
      ]
    },
    {
      "cell_type": "code",
      "source": [
        "def gen_data(N, M):\n",
        "    data = [[rand(0, N - 1), rand(0, M - 1)] for _ in range(10)]\n",
        "    block = numpy.zeros((N, M), int)\n",
        "    for pas, sec in data:\n",
        "        block[pas, sec] += 1\n",
        "    return block"
      ],
      "metadata": {
        "id": "K8jh4DLmpvYY"
      },
      "execution_count": null,
      "outputs": []
    },
    {
      "cell_type": "code",
      "source": [
        "def get_dist_for_1_path(sx, sy, block, data_for_ans): #data_for_ans - для ячейки храним какой заказ в ней\n",
        "    x = sx\n",
        "    y = sy\n",
        "    dist = 0\n",
        "    ans = []\n",
        "    d = -1\n",
        "    N = len(block)\n",
        "    M = len(block[0])\n",
        "    if (sy == 0): d = 1\n",
        "    while True:\n",
        "        if x < 0 or y < 0 or x >= N or y >= M: break\n",
        "        if (block[:, y].sum() == 0):\n",
        "            dist += 2\n",
        "            y += d\n",
        "            continue\n",
        "        if x == N - 1: #идем вверх\n",
        "            for nx in range(N - 1, -1, -1):\n",
        "                if block[nx][y] != 0: \n",
        "                    for ind in data_for_ans[nx][y]: ans.append(ind)\n",
        "        else: # идем вниз\n",
        "            for nx in range(0, N):\n",
        "                if (block[nx][y] != 0):\n",
        "                    for ind in data_for_ans[nx][y]: ans.append(ind)\n",
        "        dist += N\n",
        "        dist += 2\n",
        "        x = abs(x - (N - 1))\n",
        "        y += d\n",
        "    dist -= 2\n",
        "\n",
        "    if x == N - 1: dist += N\n",
        "    return [dist, ans]\n",
        "\n",
        "\n"
      ],
      "metadata": {
        "id": "dBkegEjjn0HC"
      },
      "execution_count": 16,
      "outputs": []
    },
    {
      "cell_type": "code",
      "source": [
        ""
      ],
      "metadata": {
        "id": "vfe24XBrLX4G"
      },
      "execution_count": null,
      "outputs": []
    },
    {
      "cell_type": "code",
      "source": [
        "from random import randint as rand\n",
        "import numpy\n",
        "import json"
      ],
      "metadata": {
        "id": "tAvB_gl3rvKw"
      },
      "execution_count": 1,
      "outputs": []
    },
    {
      "cell_type": "code",
      "source": [
        "! git clone https://github.com/xechehot/sirius-2021-warehouse.git"
      ],
      "metadata": {
        "id": "cQnsFSZsttsw",
        "outputId": "463d5856-b5cf-47ad-a191-82b8e6240eb6",
        "colab": {
          "base_uri": "https://localhost:8080/"
        }
      },
      "execution_count": 3,
      "outputs": [
        {
          "output_type": "stream",
          "name": "stdout",
          "text": [
            "fatal: destination path 'sirius-2021-warehouse' already exists and is not an empty directory.\n"
          ]
        }
      ]
    },
    {
      "cell_type": "code",
      "source": [
        "with open('sirius-2021-warehouse/data_sample/sample.json') as f:\n",
        "    sample_data = json.load(f)"
      ],
      "metadata": {
        "id": "ucG8TSzIEOca",
        "outputId": "e95d5eb3-c7d4-403a-efac-889b8fef3327",
        "colab": {
          "base_uri": "https://localhost:8080/"
        }
      },
      "execution_count": 20,
      "outputs": [
        {
          "output_type": "execute_result",
          "data": {
            "text/plain": [
              "{'block_x': 2, 'block_y': 3, 'floors': 2, 'rows': 5, 'sections': 10}"
            ]
          },
          "metadata": {},
          "execution_count": 20
        }
      ]
    },
    {
      "cell_type": "code",
      "source": [
        "rows = sample_data['warehouse']['meta']['rows']\n",
        "sections = sample_data['warehouse']['meta']['sections']\n",
        "block_x = sample_data['warehouse']['meta']['block_x']\n",
        "block_y = sample_data['warehouse']['meta']['block_y']\n",
        "floors = sample_data['warehouse']['meta']['floors']"
      ],
      "metadata": {
        "id": "IQ2NdvQ-J3xe"
      },
      "execution_count": 24,
      "outputs": []
    },
    {
      "cell_type": "code",
      "source": [
        "pcnt = 0 # количество различных товаров\n",
        "for order in sample_data['orders']:\n",
        "    for product in order['items']:\n",
        "        #print(product)\n",
        "        pcnt = max(pcnt, product['id'])\n",
        "product_place = [[]]*(pcnt + 1)\n",
        "for product in sample_data['warehouse']['stock']:\n",
        "    #print(product)\n",
        "    product_place[product['id']].append(product['p'])\n",
        "#print(product_place)"
      ],
      "metadata": {
        "id": "gvIcN5ojMNL8",
        "outputId": "770f14e0-84ee-4436-b92e-f00172c4ce0b",
        "colab": {
          "base_uri": "https://localhost:8080/"
        }
      },
      "execution_count": 44,
      "outputs": [
        {
          "output_type": "stream",
          "name": "stdout",
          "text": [
            "[[{'floor': 1, 'block_x': 2, 'block_y': 3, 'row': 3, 'section': 9}, {'floor': 1, 'block_x': 1, 'block_y': 2, 'row': 1, 'section': 2}, {'floor': 2, 'block_x': 1, 'block_y': 3, 'row': 4, 'section': 4}, {'floor': 1, 'block_x': 2, 'block_y': 3, 'row': 4, 'section': 9}, {'floor': 1, 'block_x': 1, 'block_y': 2, 'row': 2, 'section': 2}, {'floor': 2, 'block_x': 1, 'block_y': 3, 'row': 5, 'section': 4}], [{'floor': 1, 'block_x': 2, 'block_y': 3, 'row': 3, 'section': 9}, {'floor': 1, 'block_x': 1, 'block_y': 2, 'row': 1, 'section': 2}, {'floor': 2, 'block_x': 1, 'block_y': 3, 'row': 4, 'section': 4}, {'floor': 1, 'block_x': 2, 'block_y': 3, 'row': 4, 'section': 9}, {'floor': 1, 'block_x': 1, 'block_y': 2, 'row': 2, 'section': 2}, {'floor': 2, 'block_x': 1, 'block_y': 3, 'row': 5, 'section': 4}], [{'floor': 1, 'block_x': 2, 'block_y': 3, 'row': 3, 'section': 9}, {'floor': 1, 'block_x': 1, 'block_y': 2, 'row': 1, 'section': 2}, {'floor': 2, 'block_x': 1, 'block_y': 3, 'row': 4, 'section': 4}, {'floor': 1, 'block_x': 2, 'block_y': 3, 'row': 4, 'section': 9}, {'floor': 1, 'block_x': 1, 'block_y': 2, 'row': 2, 'section': 2}, {'floor': 2, 'block_x': 1, 'block_y': 3, 'row': 5, 'section': 4}], [{'floor': 1, 'block_x': 2, 'block_y': 3, 'row': 3, 'section': 9}, {'floor': 1, 'block_x': 1, 'block_y': 2, 'row': 1, 'section': 2}, {'floor': 2, 'block_x': 1, 'block_y': 3, 'row': 4, 'section': 4}, {'floor': 1, 'block_x': 2, 'block_y': 3, 'row': 4, 'section': 9}, {'floor': 1, 'block_x': 1, 'block_y': 2, 'row': 2, 'section': 2}, {'floor': 2, 'block_x': 1, 'block_y': 3, 'row': 5, 'section': 4}], [{'floor': 1, 'block_x': 2, 'block_y': 3, 'row': 3, 'section': 9}, {'floor': 1, 'block_x': 1, 'block_y': 2, 'row': 1, 'section': 2}, {'floor': 2, 'block_x': 1, 'block_y': 3, 'row': 4, 'section': 4}, {'floor': 1, 'block_x': 2, 'block_y': 3, 'row': 4, 'section': 9}, {'floor': 1, 'block_x': 1, 'block_y': 2, 'row': 2, 'section': 2}, {'floor': 2, 'block_x': 1, 'block_y': 3, 'row': 5, 'section': 4}], [{'floor': 1, 'block_x': 2, 'block_y': 3, 'row': 3, 'section': 9}, {'floor': 1, 'block_x': 1, 'block_y': 2, 'row': 1, 'section': 2}, {'floor': 2, 'block_x': 1, 'block_y': 3, 'row': 4, 'section': 4}, {'floor': 1, 'block_x': 2, 'block_y': 3, 'row': 4, 'section': 9}, {'floor': 1, 'block_x': 1, 'block_y': 2, 'row': 2, 'section': 2}, {'floor': 2, 'block_x': 1, 'block_y': 3, 'row': 5, 'section': 4}], [{'floor': 1, 'block_x': 2, 'block_y': 3, 'row': 3, 'section': 9}, {'floor': 1, 'block_x': 1, 'block_y': 2, 'row': 1, 'section': 2}, {'floor': 2, 'block_x': 1, 'block_y': 3, 'row': 4, 'section': 4}, {'floor': 1, 'block_x': 2, 'block_y': 3, 'row': 4, 'section': 9}, {'floor': 1, 'block_x': 1, 'block_y': 2, 'row': 2, 'section': 2}, {'floor': 2, 'block_x': 1, 'block_y': 3, 'row': 5, 'section': 4}]]\n"
          ]
        }
      ]
    },
    {
      "cell_type": "code",
      "source": [
        ""
      ],
      "metadata": {
        "id": "POgvaaiANbLa"
      },
      "execution_count": null,
      "outputs": []
    }
  ]
}