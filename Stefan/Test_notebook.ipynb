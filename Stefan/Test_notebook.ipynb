{
  "nbformat": 4,
  "nbformat_minor": 0,
  "metadata": {
    "colab": {
      "name": "Untitled4.ipynb",
      "provenance": [],
      "authorship_tag": "ABX9TyMcYuXqHwyvvcjgPasg00lc",
      "include_colab_link": true
    },
    "kernelspec": {
      "name": "python3",
      "display_name": "Python 3"
    },
    "language_info": {
      "name": "python"
    }
  },
  "cells": [
    {
      "cell_type": "markdown",
      "metadata": {
        "id": "view-in-github",
        "colab_type": "text"
      },
      "source": [
        "<a href=\"https://colab.research.google.com/github/xechehot/sirius-2021-warehouse/blob/main/Stefan/Test_notebook.ipynb\" target=\"_parent\"><img src=\"https://colab.research.google.com/assets/colab-badge.svg\" alt=\"Open In Colab\"/></a>"
      ]
    },
    {
      "cell_type": "code",
      "source": [
        "def my_split(x):\n",
        "  ???"
      ],
      "metadata": {
        "id": "meUs7Qp2888f"
      },
      "execution_count": null,
      "outputs": []
    },
    {
      "cell_type": "code",
      "source": [
        "my_split('a b c') == ['a', 'b', 'c']"
      ],
      "metadata": {
        "id": "f3OL0Br89BZE"
      },
      "execution_count": null,
      "outputs": []
    },
    {
      "cell_type": "code",
      "source": [
        "'апельсин мандарин ананас'.split('а')"
      ],
      "metadata": {
        "colab": {
          "base_uri": "https://localhost:8080/"
        },
        "id": "rmYFN9IO8wb7",
        "outputId": "73d17f5a-2613-4ae1-c1d9-0e5f37f7cd82"
      },
      "execution_count": null,
      "outputs": [
        {
          "output_type": "execute_result",
          "data": {
            "text/plain": [
              "['', 'пельсин м', 'нд', 'рин ', 'н', 'н', 'с']"
            ]
          },
          "metadata": {},
          "execution_count": 17
        }
      ]
    },
    {
      "cell_type": "code",
      "source": [
        "['a b c d']*3"
      ],
      "metadata": {
        "colab": {
          "base_uri": "https://localhost:8080/"
        },
        "id": "B3pCYVyq7NLw",
        "outputId": "48951ac3-3d5b-4756-fb3e-c241efa5b1f3"
      },
      "execution_count": null,
      "outputs": [
        {
          "output_type": "execute_result",
          "data": {
            "text/plain": [
              "['a b c d', 'a b c d', 'a b c d']"
            ]
          },
          "metadata": {},
          "execution_count": 1
        }
      ]
    },
    {
      "cell_type": "code",
      "execution_count": null,
      "metadata": {
        "id": "6ZkcVLLo7ApM"
      },
      "outputs": [],
      "source": [
        "data = [\n",
        "        *['a b c d']*30,\n",
        "        *['b c d']*40,\n",
        "        *['c d']*50\n",
        "]"
      ]
    },
    {
      "cell_type": "code",
      "source": [
        "N = 5"
      ],
      "metadata": {
        "id": "DYAEM-6c8Wcv"
      },
      "execution_count": null,
      "outputs": []
    },
    {
      "cell_type": "code",
      "source": [
        "{\n",
        "    'a': 17,\n",
        "    'b': 14\n",
        "}"
      ],
      "metadata": {
        "colab": {
          "base_uri": "https://localhost:8080/"
        },
        "id": "gl9axO3c7rY4",
        "outputId": "92776830-d04e-435e-b9d4-368040f95553"
      },
      "execution_count": null,
      "outputs": [
        {
          "output_type": "execute_result",
          "data": {
            "text/plain": [
              "{'a': 17, 'b': 14}"
            ]
          },
          "metadata": {},
          "execution_count": 11
        }
      ]
    },
    {
      "cell_type": "code",
      "source": [
        "# schedule (['a b c', 'a', 'b', 'a c'], 3)\n",
        "['a b c', 'a', 'b', 'a c'] -> [['a b c'], ['a', 'b'], ['a c']]"
      ],
      "metadata": {
        "id": "0ah49ZXTE_cN"
      },
      "execution_count": null,
      "outputs": []
    },
    {
      "cell_type": "code",
      "source": [
        "def schedule(lst, N):\n",
        "  return [lst[i:i+N] for i in range(N)]"
      ],
      "metadata": {
        "id": "bJTd7jBpLzXX"
      },
      "execution_count": null,
      "outputs": []
    },
    {
      "cell_type": "code",
      "source": [
        "ar = [1,2,3,4,5,6,7]"
      ],
      "metadata": {
        "id": "iAFHpJm0J_uB"
      },
      "execution_count": null,
      "outputs": []
    },
    {
      "cell_type": "code",
      "source": [
        "import numpy as np"
      ],
      "metadata": {
        "id": "y3vFt_MwhGlN"
      },
      "execution_count": 1,
      "outputs": []
    },
    {
      "cell_type": "code",
      "source": [
        "block = np.zeros((5, 3), dtype=int)"
      ],
      "metadata": {
        "id": "CaxGUvOZhJIF"
      },
      "execution_count": 5,
      "outputs": []
    },
    {
      "cell_type": "code",
      "source": [
        "block[3, 1] = 1"
      ],
      "metadata": {
        "id": "j0gEjAlghNIx"
      },
      "execution_count": 7,
      "outputs": []
    },
    {
      "cell_type": "code",
      "source": [
        "block"
      ],
      "metadata": {
        "colab": {
          "base_uri": "https://localhost:8080/"
        },
        "id": "tkDs-7AshfSu",
        "outputId": "6476ca81-021f-4569-b8f2-52aab1a94a67"
      },
      "execution_count": 8,
      "outputs": [
        {
          "output_type": "execute_result",
          "data": {
            "text/plain": [
              "array([[0, 0, 0],\n",
              "       [0, 0, 0],\n",
              "       [0, 0, 0],\n",
              "       [0, 1, 0],\n",
              "       [0, 0, 0]])"
            ]
          },
          "metadata": {},
          "execution_count": 8
        }
      ]
    },
    {
      "cell_type": "code",
      "source": [
        "block[3, :]"
      ],
      "metadata": {
        "colab": {
          "base_uri": "https://localhost:8080/"
        },
        "id": "kzZaX5p6hhbJ",
        "outputId": "2cd4d900-7f80-46c1-b4c6-c8c6dea947fd"
      },
      "execution_count": 9,
      "outputs": [
        {
          "output_type": "execute_result",
          "data": {
            "text/plain": [
              "array([0, 1, 0])"
            ]
          },
          "metadata": {},
          "execution_count": 9
        }
      ]
    },
    {
      "cell_type": "code",
      "source": [
        "block[:, 1]"
      ],
      "metadata": {
        "colab": {
          "base_uri": "https://localhost:8080/"
        },
        "id": "gG-vDueihlS6",
        "outputId": "42108f8a-8600-408d-a862-6f1f12d74460"
      },
      "execution_count": 10,
      "outputs": [
        {
          "output_type": "execute_result",
          "data": {
            "text/plain": [
              "array([0, 0, 0, 1, 0])"
            ]
          },
          "metadata": {},
          "execution_count": 10
        }
      ]
    },
    {
      "cell_type": "code",
      "source": [
        "block_list = [[0, 0, 0] for _ in range(5)]"
      ],
      "metadata": {
        "id": "4UhPG44AiCIL"
      },
      "execution_count": 13,
      "outputs": []
    },
    {
      "cell_type": "code",
      "source": [
        "block[3, :]+=[1,2,3]"
      ],
      "metadata": {
        "id": "J8XrbrTTiLcl"
      },
      "execution_count": 20,
      "outputs": []
    },
    {
      "cell_type": "code",
      "source": [
        "block"
      ],
      "metadata": {
        "colab": {
          "base_uri": "https://localhost:8080/"
        },
        "id": "XJTB6LrlibhU",
        "outputId": "dae5f69c-8345-484e-da41-25ad1576f644"
      },
      "execution_count": 21,
      "outputs": [
        {
          "output_type": "execute_result",
          "data": {
            "text/plain": [
              "array([[0, 0, 0],\n",
              "       [0, 0, 0],\n",
              "       [0, 0, 0],\n",
              "       [1, 3, 3],\n",
              "       [0, 0, 0]])"
            ]
          },
          "metadata": {},
          "execution_count": 21
        }
      ]
    },
    {
      "cell_type": "code",
      "source": [
        "np.random.choice()"
      ],
      "metadata": {
        "colab": {
          "base_uri": "https://localhost:8080/"
        },
        "id": "UoxwlRDfjBBj",
        "outputId": "94115854-b8a5-4e25-bce9-2eb641700492"
      },
      "execution_count": 32,
      "outputs": [
        {
          "output_type": "execute_result",
          "data": {
            "text/plain": [
              "array([0, 3])"
            ]
          },
          "metadata": {},
          "execution_count": 32
        }
      ]
    },
    {
      "cell_type": "code",
      "source": [
        "ROWS = 12\n",
        "SECTIONS = 17"
      ],
      "metadata": {
        "id": "4MhAC8nPqMOG"
      },
      "execution_count": 37,
      "outputs": []
    },
    {
      "cell_type": "code",
      "source": [
        "def generate_positions(r, s, sz):\n",
        "    rows = np.random.choice(r, sz)\n",
        "    sections = np.random.choice(s, sz)\n",
        "    return list(zip(rows, sections))"
      ],
      "metadata": {
        "id": "f1EOeTXiqpZ-"
      },
      "execution_count": 44,
      "outputs": []
    },
    {
      "cell_type": "code",
      "source": [
        "generate_positions(ROWS, SECTIONS, 2)"
      ],
      "metadata": {
        "colab": {
          "base_uri": "https://localhost:8080/"
        },
        "id": "169LU5r_raTd",
        "outputId": "371540bd-ee47-4848-f69e-9ae4a51bace5"
      },
      "execution_count": 45,
      "outputs": [
        {
          "output_type": "execute_result",
          "data": {
            "text/plain": [
              "[(2, 0), (2, 8)]"
            ]
          },
          "metadata": {},
          "execution_count": 45
        }
      ]
    },
    {
      "cell_type": "code",
      "source": [
        "NUM = 10\n",
        "ones = generate_positions(ROWS, SECTIONS, 1)\n",
        "distributed = generate_positions(ROWS, SECTIONS, NUM)\n",
        "distributed_20 = generate_positions(ROWS, SECTIONS, NUM*2)\n",
        "distributed_40 = generate_positions(ROWS, SECTIONS, NUM*4)\n",
        "first_rows = generate_positions(np.arange(3), SECTIONS, NUM)\n",
        "last_rows = generate_positions(np.arange(ROWS-3, ROWS), SECTIONS, NUM)\n",
        "first_sections = generate_positions(ROWS, np.arange(3), NUM)\n",
        "last_sections = generate_positions(ROWS, np.arange(SECTIONS-3, SECTIONS), NUM)"
      ],
      "metadata": {
        "id": "TQh6Cc3psJEx"
      },
      "execution_count": 52,
      "outputs": []
    },
    {
      "cell_type": "code",
      "source": [
        ""
      ],
      "metadata": {
        "colab": {
          "base_uri": "https://localhost:8080/"
        },
        "id": "CTB2VoOornkV",
        "outputId": "3dfb910e-fdf6-4124-88df-1ea70091674c"
      },
      "execution_count": 53,
      "outputs": [
        {
          "output_type": "execute_result",
          "data": {
            "text/plain": [
              "[(7, 12)]"
            ]
          },
          "metadata": {},
          "execution_count": 53
        }
      ]
    }
  ]
}