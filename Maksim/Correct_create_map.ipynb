{
  "nbformat": 4,
  "nbformat_minor": 0,
  "metadata": {
    "colab": {
      "name": "Create_map.ipynb",
      "provenance": [],
      "include_colab_link": true
    },
    "kernelspec": {
      "name": "python3",
      "display_name": "Python 3"
    },
    "language_info": {
      "name": "python"
    }
  },
  "cells": [
    {
      "cell_type": "markdown",
      "metadata": {
        "id": "view-in-github",
        "colab_type": "text"
      },
      "source": [
        "<a href=\"https://colab.research.google.com/github/xechehot/sirius-2021-warehouse/blob/main/Maksim/Correct_create_map.ipynb\" target=\"_parent\"><img src=\"https://colab.research.google.com/assets/colab-badge.svg\" alt=\"Open In Colab\"/></a>"
      ]
    },
    {
      "cell_type": "code",
      "execution_count": 1,
      "metadata": {
        "colab": {
          "base_uri": "https://localhost:8080/"
        },
        "id": "YKcQESC99eM-",
        "outputId": "d316aaa9-0980-437a-dfa9-567c2bba4c36"
      },
      "outputs": [
        {
          "output_type": "stream",
          "name": "stdout",
          "text": [
            "Cloning into 'sirius-2021-warehouse'...\n",
            "remote: Enumerating objects: 419, done.\u001b[K\n",
            "remote: Counting objects: 100% (419/419), done.\u001b[K\n",
            "remote: Compressing objects: 100% (313/313), done.\u001b[K\n",
            "remote: Total 419 (delta 260), reused 225 (delta 95), pack-reused 0\u001b[K\n",
            "Receiving objects: 100% (419/419), 414.52 KiB | 3.80 MiB/s, done.\n",
            "Resolving deltas: 100% (260/260), done.\n"
          ]
        }
      ],
      "source": [
        "!git clone https://github.com/xechehot/sirius-2021-warehouse"
      ]
    },
    {
      "cell_type": "code",
      "source": [
        "! cd sirius-2021-warehouse; git pull"
      ],
      "metadata": {
        "id": "b13XZT94-rg3",
        "outputId": "276a581c-7bbc-4dac-98b0-2be0d0a53fe7",
        "colab": {
          "base_uri": "https://localhost:8080/"
        }
      },
      "execution_count": 2,
      "outputs": [
        {
          "output_type": "stream",
          "name": "stdout",
          "text": [
            "Already up to date.\n"
          ]
        }
      ]
    },
    {
      "cell_type": "code",
      "source": [
        "from json import load as JLoad\n",
        "\n",
        "with open('sirius-2021-warehouse/data_sample/sample_64_1.json', 'r') as f:\n",
        "  data = JLoad(f) \n",
        "\n",
        "#data"
      ],
      "metadata": {
        "id": "p3FqG1H199lK"
      },
      "execution_count": 3,
      "outputs": []
    },
    {
      "cell_type": "code",
      "source": [
        "floors = data['warehouse']['meta']['floors']\n",
        "block_x = data['warehouse']['meta']['block_x']\n",
        "block_y = data['warehouse']['meta']['block_y']\n",
        "rows = data['warehouse']['meta']['rows'] \n",
        "sections = data['warehouse']['meta']['sections']\n",
        "\n",
        "floors, block_x, block_y, rows, sections"
      ],
      "metadata": {
        "colab": {
          "base_uri": "https://localhost:8080/"
        },
        "id": "2NSo2V-NAOJ6",
        "outputId": "1b3cd687-8379-4894-8065-2694145bc977"
      },
      "execution_count": 4,
      "outputs": [
        {
          "output_type": "execute_result",
          "data": {
            "text/plain": [
              "(1, 1, 2, 4, 8)"
            ]
          },
          "metadata": {},
          "execution_count": 4
        }
      ]
    },
    {
      "cell_type": "markdown",
      "source": [
        "Также нужно добавть информацию о товарах, которые лежат на складе в поле items:"
      ],
      "metadata": {
        "id": "_i3NdVmfyWS9"
      }
    },
    {
      "cell_type": "code",
      "source": [
        "data['warehouse']['stock'][0]"
      ],
      "metadata": {
        "id": "2M_j3sXBzirg",
        "outputId": "88d219cc-e390-48f5-e7fd-9c73c0515653",
        "colab": {
          "base_uri": "https://localhost:8080/"
        }
      },
      "execution_count": 11,
      "outputs": [
        {
          "output_type": "execute_result",
          "data": {
            "text/plain": [
              "{'count': 4,\n",
              " 'id': 5277987,\n",
              " 'p': {'block_x': 1, 'block_y': 2, 'floor': 1, 'row': 3, 'section': 6}}"
            ]
          },
          "metadata": {},
          "execution_count": 11
        }
      ]
    },
    {
      "cell_type": "code",
      "source": [
        "def get_out_coordinates(stock_item):\n",
        "    # ТУТ НУЖНО ПРАВИЛЬНО ПОСЧИТАТЬ КООРДИНТЫ x и y из stock_item['p']\n",
        "    return {\n",
        "      \"position\": {\n",
        "        \"x\": 0,\n",
        "        \"y\": 0\n",
        "      },\n",
        "      \"id\": stock_item['id'],\n",
        "      \"amount\": stock_item['count']\n",
        "    }"
      ],
      "metadata": {
        "id": "n9rA4y8EywmQ"
      },
      "execution_count": 12,
      "outputs": []
    },
    {
      "cell_type": "code",
      "source": [
        "output_items = []\n",
        "for stock_item in data['warehouse']['stock']:\n",
        "    out_item = get_out_coordinates(stock_item)\n",
        "    output_items.append(out_item)"
      ],
      "metadata": {
        "id": "VeJcmqJYyUyd"
      },
      "execution_count": 13,
      "outputs": []
    },
    {
      "cell_type": "code",
      "source": [
        "import json\n",
        "\n",
        "Map_y = (3 * rows) // 2 + 1\n",
        "Map_x = sections + 2\n",
        " \n",
        "s_map_x = block_x * Map_x\n",
        "s_map_y = block_y * Map_y\n",
        "\n",
        "map_for_block = [[0 for i in range(s_map_y)] for j in range(s_map_x)]\n",
        "\n",
        "\n",
        "MAP = []\n",
        "\n",
        "for i in range(Map_x):\n",
        "  MAP.append([0 for _ in range(Map_y)])\n",
        "  if i == 0 or i == Map_x - 1:\n",
        "    continue\n",
        "  for j in range(Map_y):\n",
        "    if j % 3 != 0:\n",
        "      MAP[i][j] = 1\n",
        "\n",
        "\n",
        "# print(Map_x, Map_y)\n",
        "\n",
        "\n",
        "\n",
        "# for i in MAP:\n",
        "#  for j in i:\n",
        "  #  print(j, end = ' ')\n",
        "#  print('')\n",
        "\n",
        "\n",
        "for i in range(s_map_x):\n",
        "  for j in range(s_map_y):\n",
        "    map_for_block[i][j] = MAP[i % Map_x][j % Map_y]\n",
        "\n",
        "for i in range (s_map_y):\n",
        "  map_for_block[0][i] = 2\n",
        "\n",
        "startx = s_map_x - 1\n",
        "starty = s_map_y // 2\n",
        "\n",
        "# for i in map_for_block:\n",
        "#  for j in i:\n",
        "  #  print(j, end = ' ')\n",
        "#  print('')\n",
        "\n",
        "output = {\n",
        "      \"map\": {\n",
        "          \"dimensions\": {\n",
        "              \"x\": s_map_x,\n",
        "              \"y\": s_map_y\n",
        "          },\n",
        "          \"shelves\": [\n",
        "                      \n",
        "          ],\n",
        "          \"dropZone\": [\n",
        "                  \n",
        "          ],\n",
        "          \"start\": {\n",
        "            \"x\": s_map_x - 1,\n",
        "            \"y\": s_map_y // 2 \n",
        "        }\n",
        "      },\n",
        "    #   Добавляем items\n",
        "      \"items\": output_items,\n",
        "}\n",
        "\n",
        "shelves = []\n",
        "dropZone = []\n",
        "for i in range(s_map_x):\n",
        "    for j in range(s_map_y):\n",
        "        if map_for_block[i][j] == 1:\n",
        "            item = {\n",
        "                \"x\": i,\n",
        "                \"y\": j\n",
        "            }\n",
        "            shelves.append(item)\n",
        "        elif map_for_block[i][j] == 2:\n",
        "            item = {\n",
        "                \"x\": i,\n",
        "                \"y\": j\n",
        "            }\n",
        "            dropZone.append(item)\n",
        "output['map']['shelves'] = shelves\n",
        "output['map']['dropZone'] = dropZone\n",
        "with open(\"visual_sample_map.json\", \"w\") as f:\n",
        "  json.dump(output, f, indent=2)\n",
        "# print(json.dumps(output, indent=3))\n"
      ],
      "metadata": {
        "id": "xNdyaTAUB9ge"
      },
      "execution_count": 16,
      "outputs": []
    },
    {
      "cell_type": "code",
      "source": [
        ""
      ],
      "metadata": {
        "id": "NXFQ0bhPyR6L"
      },
      "execution_count": 5,
      "outputs": []
    }
  ]
}