{
  "nbformat": 4,
  "nbformat_minor": 0,
  "metadata": {
    "colab": {
      "name": "Untitled1.ipynb",
      "provenance": [],
      "authorship_tag": "ABX9TyN78Mg0Fe2phLv6oX28guL7",
      "include_colab_link": true
    },
    "kernelspec": {
      "name": "python3",
      "display_name": "Python 3"
    },
    "language_info": {
      "name": "python"
    }
  },
  "cells": [
    {
      "cell_type": "markdown",
      "metadata": {
        "id": "view-in-github",
        "colab_type": "text"
      },
      "source": [
        "<a href=\"https://colab.research.google.com/github/xechehot/sirius-2021-warehouse/blob/'Maksim_super'/Maksim/Untitled1.ipynb\" target=\"_parent\"><img src=\"https://colab.research.google.com/assets/colab-badge.svg\" alt=\"Open In Colab\"/></a>"
      ]
    },
    {
      "cell_type": "code",
      "execution_count": null,
      "metadata": {
        "id": "SAK4eGBagnZz"
      },
      "outputs": [],
      "source": [
        "from random import randint as rand\n",
        "import numpy\n",
        "\n",
        "N = 17 # количество секций\n",
        "M = 13 # количетсво проходов\n",
        "data = [[rand(0, N - 1), rand(0, M - 1)] for _ in range(10)]\n",
        "block = numpy.zeros((N, M), int)\n",
        "empt = [0] * M"
      ]
    },
    {
      "cell_type": "code",
      "source": [
        "def gen_data():\n",
        "    data = [[rand(0, N - 1), rand(0, M - 1)] for _ in range(10)]\n",
        "    block = numpy.zeros((N, M), int)\n",
        "    for pas, sec in data:\n",
        "        block[pas, sec] += 1\n",
        "    return block"
      ],
      "metadata": {
        "id": "K8jh4DLmpvYY"
      },
      "execution_count": null,
      "outputs": []
    },
    {
      "cell_type": "code",
      "source": [
        "def get_dist(sx, sy):\n",
        "    x = sx\n",
        "    y = sy\n",
        "    dist = 0\n",
        "    ans = []\n",
        "    d = -1\n",
        "    if (sy == 0): d = 1\n",
        "    while True:\n",
        "        if x < 0 or y < 0 or x >= N or y >= M: break\n",
        "        if (block[:, y].sum() == 0):\n",
        "            dist += 2\n",
        "            y += d\n",
        "            continue\n",
        "        if x == N - 1: #идем вверх\n",
        "            for nx in range(N - 1, -1, -1):\n",
        "                if block[nx][y] != 0: \n",
        "                    ans.append([nx, y])\n",
        "        else: # идем вниз\n",
        "            for nx in range(0, N):\n",
        "                if (block[nx][y] != 0):\n",
        "                    ans.append([nx, y])\n",
        "        dist += N\n",
        "        dist += 2\n",
        "        x = abs(x - (N - 1))\n",
        "        y += d\n",
        "    dist -= 2\n",
        "\n",
        "    if x == N - 1: dist += N\n",
        "    return dist\n",
        "\n",
        "\n"
      ],
      "metadata": {
        "id": "dBkegEjjn0HC"
      },
      "execution_count": null,
      "outputs": []
    },
    {
      "cell_type": "code",
      "source": [
        "sum = 0\n",
        "for i in range(1000):\n",
        "    block = gen_data()\n",
        "    sum += get_dist(N - 1, 0)\n",
        "print(sum / 1000)"
      ],
      "metadata": {
        "colab": {
          "base_uri": "https://localhost:8080/"
        },
        "id": "tAvB_gl3rvKw",
        "outputId": "912604bc-140d-4e8c-c31c-88ee83bcf43d"
      },
      "execution_count": null,
      "outputs": [
        {
          "output_type": "stream",
          "name": "stdout",
          "text": [
            "153.608\n"
          ]
        }
      ]
    },
    {
      "cell_type": "code",
      "source": [
        ""
      ],
      "metadata": {
        "id": "cQnsFSZsttsw"
      },
      "execution_count": null,
      "outputs": []
    }
  ]
}