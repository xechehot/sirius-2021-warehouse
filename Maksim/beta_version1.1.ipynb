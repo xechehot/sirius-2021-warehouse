{
  "nbformat": 4,
  "nbformat_minor": 0,
  "metadata": {
    "colab": {
      "name": "Untitled1.ipynb",
      "provenance": [],
      "authorship_tag": "ABX9TyN9Vcx9IL8s6pJQk87aU/ep",
      "include_colab_link": true
    },
    "kernelspec": {
      "name": "python3",
      "display_name": "Python 3"
    },
    "language_info": {
      "name": "python"
    }
  },
  "cells": [
    {
      "cell_type": "markdown",
      "metadata": {
        "id": "view-in-github",
        "colab_type": "text"
      },
      "source": [
        "<a href=\"https://colab.research.google.com/github/xechehot/sirius-2021-warehouse/blob/main/Maksim/beta_version1.1.ipynb\" target=\"_parent\"><img src=\"https://colab.research.google.com/assets/colab-badge.svg\" alt=\"Open In Colab\"/></a>"
      ]
    },
    {
      "cell_type": "code",
      "source": [
        "def gen_data(N, M):\n",
        "    data = [[rand(0, N - 1), rand(0, M - 1)] for _ in range(10)]\n",
        "    block = numpy.zeros((N, M), int)\n",
        "    for pas, sec in data:\n",
        "        block[pas, sec] += 1\n",
        "    return block"
      ],
      "metadata": {
        "id": "K8jh4DLmpvYY"
      },
      "execution_count": null,
      "outputs": []
    },
    {
      "cell_type": "code",
      "source": [
        "def get_dist_for_1_path(sx, sy, block, data_for_ans): #data_for_ans - для ячейки храним какой заказ в ней\n",
        "    x = sx\n",
        "    y = sy\n",
        "    dist = 0\n",
        "    ans = []\n",
        "    d = -1\n",
        "    N = len(block)\n",
        "    M = len(block[0])\n",
        "    if (sy == 0): d = 1\n",
        "    while True:\n",
        "        if x < 0 or y < 0 or x >= N or y >= M: break\n",
        "        if (block[:, y].sum() == 0):\n",
        "            dist += 2\n",
        "            y += d\n",
        "            continue\n",
        "        if x == N - 1: #идем вверх\n",
        "            for nx in range(N - 1, -1, -1):\n",
        "                if block[nx][y] != 0: \n",
        "                    ans.append(data_for_ans[nx][y])\n",
        "        else: # идем вниз\n",
        "            for nx in range(0, N):\n",
        "                if (block[nx][y] != 0):\n",
        "                    ans.append(data_for_ans[nx][y])\n",
        "        dist += N\n",
        "        dist += 2\n",
        "        x = abs(x - (N - 1))\n",
        "        y += d\n",
        "    dist -= 2\n",
        "\n",
        "    if x == N - 1: dist += N\n",
        "    return [dist, ans]\n",
        "\n",
        "\n"
      ],
      "metadata": {
        "id": "dBkegEjjn0HC"
      },
      "execution_count": 115,
      "outputs": []
    },
    {
      "cell_type": "code",
      "source": [
        "from random import randint as rand\n",
        "import numpy\n",
        "import json"
      ],
      "metadata": {
        "id": "tAvB_gl3rvKw"
      },
      "execution_count": 3,
      "outputs": []
    },
    {
      "cell_type": "code",
      "source": [
        "! git clone https://github.com/xechehot/sirius-2021-warehouse.git"
      ],
      "metadata": {
        "id": "cQnsFSZsttsw",
        "outputId": "73738aa5-c043-4f7e-b3b1-8993b6b18299",
        "colab": {
          "base_uri": "https://localhost:8080/"
        }
      },
      "execution_count": 6,
      "outputs": [
        {
          "output_type": "stream",
          "name": "stdout",
          "text": [
            "fatal: destination path 'sirius-2021-warehouse' already exists and is not an empty directory.\n"
          ]
        }
      ]
    },
    {
      "cell_type": "code",
      "source": [
        "with open('sirius-2021-warehouse/data_sample/sample.json') as f:\n",
        "    sample_data = json.load(f)"
      ],
      "metadata": {
        "id": "ucG8TSzIEOca"
      },
      "execution_count": 45,
      "outputs": []
    },
    {
      "cell_type": "code",
      "source": [
        "rows = sample_data['warehouse']['meta']['rows']\n",
        "sections = sample_data['warehouse']['meta']['sections']\n",
        "block_x = sample_data['warehouse']['meta']['block_x']\n",
        "block_y = sample_data['warehouse']['meta']['block_y']\n",
        "floors = sample_data['warehouse']['meta']['floors']\n",
        "batch = sample_data['batch_size']\n",
        "b_sz = 32\n",
        "N = rows // 2 + 1\n",
        "M = sections"
      ],
      "metadata": {
        "id": "IQ2NdvQ-J3xe"
      },
      "execution_count": 96,
      "outputs": []
    },
    {
      "cell_type": "code",
      "source": [
        "def get_places(cnt_products, product_place): #ищу ячейки, куда нужно зайти\n",
        "    ans = []\n",
        "    for i in range(len(product_place)):\n",
        "        product_place[i].sort(key = lambda a: -a['count'])\n",
        "    for i in range(pcnt):\n",
        "        have = cnt_products[i]\n",
        "        ind = 0\n",
        "        while (have > 0 and ind < len(product_place[i])):\n",
        "            if (product_place[i][ind]['count'] >= have):\n",
        "                ans.append([product_place[i][ind]['p'], have])\n",
        "                have = 0\n",
        "            else:\n",
        "                ans.append([product_place[i][ind]['p'], product_place[i][ind]['count']])\n",
        "                have -= product_place[i][ind]['count']\n",
        "            ind += 1\n",
        "    return ans"
      ],
      "metadata": {
        "id": "RRrYNHj4_YiX"
      },
      "execution_count": 75,
      "outputs": []
    },
    {
      "cell_type": "code",
      "source": [
        "def distribute_data(places): #разделяю ячейки по этажам, блокам \n",
        "    ans = [[[[] for i1 in range(block_y)] for i2 in range(block_x)] for i3 in range(floors)]\n",
        "    for place in places:\n",
        "        ans[place[0]['floor'] - 1][place[0]['block_x'] - 1][place[0]['block_y'] - 1].append(place)\n",
        "    return ans"
      ],
      "metadata": {
        "id": "XSsU4KblN3VY"
      },
      "execution_count": 83,
      "outputs": []
    },
    {
      "cell_type": "code",
      "source": [
        "def conv_place(place):\n",
        "    return [place['row'] // 2, place['section']]"
      ],
      "metadata": {
        "id": "xci9Zc4eWa7h"
      },
      "execution_count": 99,
      "outputs": []
    },
    {
      "cell_type": "code",
      "source": [
        "def dist_to_start(place):\n",
        "    ans = (sections * block_x + 2) * 2\n",
        "    ans -= sections\n",
        "    dy = int(abs(1.5 - place['block_y']) + 0.5)\n",
        "    ans += dy * rows\n",
        "    if (place['block_y'] <= 1): ans += (rows - place['row'])\n",
        "    ans += (sections + 1 - place['section'])\n",
        "    return ans"
      ],
      "metadata": {
        "id": "TICqXHWu2o8x"
      },
      "execution_count": 131,
      "outputs": []
    },
    {
      "cell_type": "code",
      "source": [
        "def get_ans_for_1_block(data, sx, sy):\n",
        "    block = numpy.zeros((N, M), int)\n",
        "    list_of_products = [[-1 for i in range(M)] for j in range(N)]\n",
        "    for place, cnt in data:\n",
        "        x, y = conv_place(place)\n",
        "        block[x, y] += cnt\n",
        "        list_of_products[x][y] = [place, cnt]\n",
        "    dist, paths = get_dist_for_1_path(sx, sy, block, list_of_products)\n",
        "    ans = []\n",
        "    cur = []\n",
        "    sum = 0\n",
        "    for place, cnt in paths:\n",
        "        if (sum + cnt <= 32):\n",
        "            cur.append([place, cnt])\n",
        "            sum += cnt\n",
        "        else:\n",
        "            exist = cnt\n",
        "            while exist > 0:\n",
        "                now = min(exist, 32 - sum)\n",
        "                cur.append([place, now])\n",
        "                sum += now\n",
        "                exist -= now\n",
        "                if (sum == 32):\n",
        "                    dist += place['section'] * 2\n",
        "                    dist += dist_to_start(place)*2\n",
        "                    ans.append(cur)\n",
        "                    cur = []\n",
        "                    sum = 0\n",
        "    if (cur != []):\n",
        "        dist += dist_to_start(place)\n",
        "        ans.append(cur)\n",
        "        cur = []\n",
        "        sum = 0\n",
        "    return [ans, dist]\n",
        "    \n",
        "\n"
      ],
      "metadata": {
        "id": "uMmLZ7NcXJ9t"
      },
      "execution_count": 123,
      "outputs": []
    },
    {
      "cell_type": "code",
      "source": [
        "pcnt = 0 # количество различных товаров\n",
        "for order in sample_data['orders']:\n",
        "    for product in order['items']:\n",
        "        pcnt = max(pcnt, product['id'] + 1)\n",
        "product_place = [[] for i in range(pcnt)]\n",
        "for product in sample_data['warehouse']['stock']:\n",
        "    product_place[product['id']].append(product)\n",
        "cnt_products = [0 for i in range(pcnt)]\n",
        "for order in sample_data['orders']:\n",
        "    for product in order['items']:\n",
        "        cnt_products[product['id']] += product['count']\n"
      ],
      "metadata": {
        "id": "gvIcN5ojMNL8"
      },
      "execution_count": 93,
      "outputs": []
    },
    {
      "cell_type": "code",
      "source": [
        "places = get_places(cnt_products, product_place)\n",
        "dis = distribute_data(places)\n",
        "ans = []\n",
        "dist = 0\n",
        "for floor in range(floors):\n",
        "    for bx in range(block_x):\n",
        "        for by in range(block_y):\n",
        "            if (dis[floor][bx][by] == []): continue\n",
        "            sx = N - 1\n",
        "            if (by >= 2): sx = 0\n",
        "            p_ans, p_dist = get_ans_for_1_block(dis[floor][bx][by], sx, 0)\n",
        "            dist += p_dist\n",
        "            for elem in p_ans: ans.append(elem)\n",
        "print(ans)\n",
        "print(dist)"
      ],
      "metadata": {
        "id": "POgvaaiANbLa",
        "outputId": "8342c81b-da73-48d6-e17e-b80bb4a8779c",
        "colab": {
          "base_uri": "https://localhost:8080/"
        }
      },
      "execution_count": 132,
      "outputs": [
        {
          "output_type": "stream",
          "name": "stdout",
          "text": [
            "[[[{'floor': 1, 'block_x': 1, 'block_y': 2, 'row': 8, 'section': 2}, 3]], [[{'floor': 1, 'block_x': 1, 'block_y': 3, 'row': 1, 'section': 2}, 16]], [[{'floor': 1, 'block_x': 2, 'block_y': 3, 'row': 4, 'section': 9}, 4]], [[{'floor': 1, 'block_x': 2, 'block_y': 4, 'row': 7, 'section': 9}, 7]], [[{'floor': 2, 'block_x': 1, 'block_y': 2, 'row': 5, 'section': 4}, 2]], [[{'floor': 2, 'block_x': 1, 'block_y': 3, 'row': 5, 'section': 4}, 3]]]\n",
            "486\n"
          ]
        }
      ]
    }
  ]
}