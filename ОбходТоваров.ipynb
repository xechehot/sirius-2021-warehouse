{
  "nbformat": 4,
  "nbformat_minor": 0,
  "metadata": {
    "colab": {
      "name": "ОбходТоваров.ipynb",
      "provenance": [],
      "authorship_tag": "ABX9TyMYrF7DRj5Y3wLFQutZWC+0",
      "include_colab_link": true
    },
    "kernelspec": {
      "name": "python3",
      "display_name": "Python 3"
    },
    "language_info": {
      "name": "python"
    }
  },
  "cells": [
    {
      "cell_type": "markdown",
      "metadata": {
        "id": "view-in-github",
        "colab_type": "text"
      },
      "source": [
        "<a href=\"https://colab.research.google.com/github/xechehot/sirius-2021-warehouse/blob/'Danil_Round_Go'/%D0%9E%D0%B1%D1%85%D0%BE%D0%B4%D0%A2%D0%BE%D0%B2%D0%B0%D1%80%D0%BE%D0%B2.ipynb\" target=\"_parent\"><img src=\"https://colab.research.google.com/assets/colab-badge.svg\" alt=\"Open In Colab\"/></a>"
      ]
    },
    {
      "cell_type": "markdown",
      "source": [
        "## Задача:\n",
        "Имеется заказ, представляющий собой набор товаров.\n",
        "Нужно обойти все товары в блоке с помощью метода \"обход по кругу\".\n",
        "## Координаты\n",
        "Координаты товаров задаются парой чисел (x, y). Число x - номер пустой области между рядами(0 <= x <= 12). Число y - номер секции (0 <= y <= 18)\n",
        "## Начальные значения\n",
        "Старт - точка с координатами (17, 0).\n",
        "Финиш - любая точка, у которой y = 18\n",
        "## Ответ\n",
        "Вывести нужно последовательность товаров и расстояние, пройденное работником."
      ],
      "metadata": {
        "id": "ScPtBH2lfRzX"
      }
    },
    {
      "cell_type": "code",
      "execution_count": null,
      "metadata": {
        "id": "polLDYalfLC8"
      },
      "outputs": [],
      "source": [
        "#Генерируем точки\n",
        "# data = [\n",
        "#         [0, 6],\n",
        "#         [2, 12],\n",
        "#         [4, 3],\n",
        "#         [5, 17],\n",
        "#         [5, 3],\n",
        "#         [8, 14],\n",
        "#         [9, 1],\n",
        "#         [9, 12],\n",
        "#         [10, 7],\n",
        "#         [11, 3]\n",
        "# ]\n",
        "data = [\n",
        "        [0, 1]\n",
        "]"
      ]
    },
    {
      "cell_type": "code",
      "source": [
        "#Текущая позиция работника\n",
        "current_point = [17, 0]\n",
        "#Расстояние, пройденное работником\n",
        "dist = 0\n",
        "#Порядок прохождения товаров\n",
        "list_of_points = [current_point]\n",
        "#Фунция для сортировки точек\n",
        "def first_sort (a):\n",
        "  return -a[0], a[1]\n",
        "def second_sort(a):\n",
        "  return a[0], -a[1]\n",
        "\n",
        "data.sort(key=first_sort)"
      ],
      "metadata": {
        "colab": {
          "base_uri": "https://localhost:8080/"
        },
        "id": "tjIOGx8amFKd",
        "outputId": "b7200394-4594-4e0d-fc7f-dc7824c76eea"
      },
      "execution_count": null,
      "outputs": [
        {
          "output_type": "execute_result",
          "data": {
            "text/plain": [
              "[[0, 1]]"
            ]
          },
          "metadata": {},
          "execution_count": 18
        }
      ]
    },
    {
      "cell_type": "code",
      "source": [
        "#Подсчет расстояния: спускаемся/поднимаемся к товару, идем влево/вправо, поднимаемся/спускаемся\n",
        "\n",
        "#Пробегаемся по товарам, которые находятся ближе к началу\n",
        "for p in data:\n",
        "  if (p[1] <= 9):\n",
        "    if current_point[0] != p[0]:\n",
        "      dist += current_point[1] + 2*(current_point[0] - p[0]) + p[1]\n",
        "    else:\n",
        "      dist += p[1] - current_point[1]\n",
        "    current_point = p\n",
        "    list_of_points.append(current_point)\n",
        "\n",
        "data.sort(key=second_sort)\n",
        "print(data)\n",
        "\n",
        "#Пробегаемся по товарам, которые находятся ближе к финишу\n",
        "for p in data:\n",
        "  if (p[1] > 9):\n",
        "    if current_point[0] != p[0]:\n",
        "      dist += current_point[1] + 2*(p[0] - current_point[0]) + p[1]\n",
        "    else:\n",
        "      dist += current_point[1] - p[1]\n",
        "    current_point = p\n",
        "    list_of_points.append(current_point)\n",
        "\n",
        "#Поднимаемся к финишу\n",
        "dist += (18 - current_point[1])\n",
        "list_of_points.append([current_point[0], 18])\n",
        "\n",
        "print(dist)\n",
        "print(list_of_points)"
      ],
      "metadata": {
        "colab": {
          "base_uri": "https://localhost:8080/"
        },
        "id": "CjvfUG5MlMAk",
        "outputId": "629e3f37-62a4-4964-9591-cdef4aa8bfa8"
      },
      "execution_count": null,
      "outputs": [
        {
          "output_type": "stream",
          "name": "stdout",
          "text": [
            "[[0, 1]]\n",
            "52\n",
            "[[17, 0], [0, 1], [0, 18]]\n"
          ]
        }
      ]
    }
  ]
}