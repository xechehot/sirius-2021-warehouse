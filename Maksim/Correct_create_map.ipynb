{
  "nbformat": 4,
  "nbformat_minor": 0,
  "metadata": {
    "colab": {
      "name": "Create_map.ipynb",
      "provenance": [],
      "include_colab_link": true
    },
    "kernelspec": {
      "name": "python3",
      "display_name": "Python 3"
    },
    "language_info": {
      "name": "python"
    }
  },
  "cells": [
    {
      "cell_type": "markdown",
      "metadata": {
        "id": "view-in-github",
        "colab_type": "text"
      },
      "source": [
        "<a href=\"https://colab.research.google.com/github/xechehot/sirius-2021-warehouse/blob/main/Maksim/Correct_create_map.ipynb\" target=\"_parent\"><img src=\"https://colab.research.google.com/assets/colab-badge.svg\" alt=\"Open In Colab\"/></a>"
      ]
    },
    {
      "cell_type": "code",
      "execution_count": 1,
      "metadata": {
        "colab": {
          "base_uri": "https://localhost:8080/"
        },
        "id": "YKcQESC99eM-",
        "outputId": "c84f7154-09ea-4a23-dfa2-88aeeec73a7e"
      },
      "outputs": [
        {
          "output_type": "stream",
          "name": "stdout",
          "text": [
            "Cloning into 'sirius-2021-warehouse'...\n",
            "remote: Enumerating objects: 376, done.\u001b[K\n",
            "remote: Counting objects: 100% (376/376), done.\u001b[K\n",
            "remote: Compressing objects: 100% (279/279), done.\u001b[K\n",
            "remote: Total 376 (delta 228), reused 208 (delta 86), pack-reused 0\u001b[K\n",
            "Receiving objects: 100% (376/376), 400.91 KiB | 2.07 MiB/s, done.\n",
            "Resolving deltas: 100% (228/228), done.\n"
          ]
        }
      ],
      "source": [
        "!git clone https://github.com/xechehot/sirius-2021-warehouse"
      ]
    },
    {
      "cell_type": "code",
      "source": [
        "! cd sirius-2021-warehouse; git pull"
      ],
      "metadata": {
        "id": "b13XZT94-rg3",
        "outputId": "ddf38795-2568-481f-9e4f-036c1a380e19",
        "colab": {
          "base_uri": "https://localhost:8080/"
        }
      },
      "execution_count": 15,
      "outputs": [
        {
          "output_type": "stream",
          "name": "stdout",
          "text": [
            "remote: Enumerating objects: 13, done.\u001b[K\n",
            "remote: Counting objects:   7% (1/13)\u001b[K\rremote: Counting objects:  15% (2/13)\u001b[K\rremote: Counting objects:  23% (3/13)\u001b[K\rremote: Counting objects:  30% (4/13)\u001b[K\rremote: Counting objects:  38% (5/13)\u001b[K\rremote: Counting objects:  46% (6/13)\u001b[K\rremote: Counting objects:  53% (7/13)\u001b[K\rremote: Counting objects:  61% (8/13)\u001b[K\rremote: Counting objects:  69% (9/13)\u001b[K\rremote: Counting objects:  76% (10/13)\u001b[K\rremote: Counting objects:  84% (11/13)\u001b[K\rremote: Counting objects:  92% (12/13)\u001b[K\rremote: Counting objects: 100% (13/13)\u001b[K\rremote: Counting objects: 100% (13/13), done.\u001b[K\n",
            "remote: Compressing objects:  20% (1/5)\u001b[K\rremote: Compressing objects:  40% (2/5)\u001b[K\rremote: Compressing objects:  60% (3/5)\u001b[K\rremote: Compressing objects:  80% (4/5)\u001b[K\rremote: Compressing objects: 100% (5/5)\u001b[K\rremote: Compressing objects: 100% (5/5), done.\u001b[K\n",
            "remote: Total 9 (delta 6), reused 7 (delta 4), pack-reused 0\u001b[K\n",
            "Unpacking objects:  11% (1/9)   \rUnpacking objects:  22% (2/9)   \rUnpacking objects:  33% (3/9)   \rUnpacking objects:  44% (4/9)   \rUnpacking objects:  55% (5/9)   \rUnpacking objects:  66% (6/9)   \rUnpacking objects:  77% (7/9)   \rUnpacking objects:  88% (8/9)   \rUnpacking objects: 100% (9/9)   \rUnpacking objects: 100% (9/9), done.\n",
            "From https://github.com/xechehot/sirius-2021-warehouse\n",
            "   a958fa9..d459add  main       -> origin/main\n",
            "Updating a958fa9..d459add\n",
            "Fast-forward\n",
            " data_sample/sample_64_1.json                 | 2933 \u001b[32m+++++++++++++\u001b[m\n",
            " data_sample_output/output_3200_1_stepan.json | 6062 \u001b[32m+++++\u001b[m\u001b[31m---------------------\u001b[m\n",
            " data_sample_output/output_600_1_stepan.json  | 1749 \u001b[32m+\u001b[m\u001b[31m-------\u001b[m\n",
            " 3 files changed, 4064 insertions(+), 6680 deletions(-)\n",
            " create mode 100644 data_sample/sample_64_1.json\n"
          ]
        }
      ]
    },
    {
      "cell_type": "code",
      "source": [
        "from json import load as JLoad\n",
        "\n",
        "with open('sirius-2021-warehouse/data_sample/sample_64_1.json', 'r') as f:\n",
        "  data = JLoad(f) \n",
        "\n",
        "#data"
      ],
      "metadata": {
        "id": "p3FqG1H199lK"
      },
      "execution_count": 16,
      "outputs": []
    },
    {
      "cell_type": "code",
      "source": [
        "floors = data['warehouse']['meta']['floors']\n",
        "block_x = 2\n",
        "block_y = 2\n",
        "rows = data['warehouse']['meta']['rows'] \n",
        "sections = data['warehouse']['meta']['sections']\n",
        "\n",
        "floors, block_x, block_y, rows, sections"
      ],
      "metadata": {
        "colab": {
          "base_uri": "https://localhost:8080/"
        },
        "id": "2NSo2V-NAOJ6",
        "outputId": "c18dba2f-fc0d-4ee1-f635-7aeac4a0e2dd"
      },
      "execution_count": 18,
      "outputs": [
        {
          "output_type": "execute_result",
          "data": {
            "text/plain": [
              "(1, 2, 2, 4, 8)"
            ]
          },
          "metadata": {},
          "execution_count": 18
        }
      ]
    },
    {
      "cell_type": "code",
      "source": [
        "import json\n",
        "\n",
        "Map_x = (3 * rows) // 2 + 1\n",
        "Map_y = sections + 2\n",
        " \n",
        "s_map_x = block_x * Map_x\n",
        "s_map_y = block_y * Map_y\n",
        "\n",
        "map_for_block = [[0 for i in range(s_map_x)] for j in range(s_map_y)]\n",
        "\n",
        "\n",
        "MAP = []\n",
        "\n",
        "for i in range(Map_y):\n",
        "  MAP.append([0 for _ in range(Map_x)])\n",
        "  if i == 0 or i == Map_y-1:\n",
        "    continue\n",
        "  for j in range(Map_x):\n",
        "    if j % 3 != 0:\n",
        "      MAP[i][j] = 1\n",
        "\n",
        "\n",
        "#print(Map_x, Map_y)\n",
        "\n",
        "#for i in MAP:\n",
        "#  for j in i:\n",
        "#    print(j, end = ' ')\n",
        "#  print('')\n",
        "\n",
        "for i in range(s_map_y):\n",
        "  for j in range(s_map_x):\n",
        "    map_for_block[i][j] = MAP[i % Map_y][j % Map_x]\n",
        "\n",
        "for i in range (s_map_x):\n",
        "  map_for_block[0][i] = 2\n",
        "\n",
        "startx = s_map_x / 2\n",
        "starty = s_map_y - 1\n",
        "\n",
        "#for i in map_for_block:\n",
        "#  for j in i:\n",
        "#    print(j, end = ' ')\n",
        "#  print('')\n",
        "\n",
        "output = {\n",
        "      \"map\": {\n",
        "          \"dimensions\": {\n",
        "              \"x\": s_map_y,\n",
        "              \"y\": s_map_x\n",
        "          },\n",
        "          \"shelves\": [\n",
        "                      \n",
        "          ],\n",
        "          \"dropZone\": [\n",
        "                  \n",
        "          ],\n",
        "          \"start\": {\n",
        "            \"x\": s_map_y - 1,\n",
        "            \"y\": s_map_x // 2\n",
        "        }\n",
        "      },\n",
        "      \"items\": [\n",
        "                \n",
        "      ],\n",
        "}\n",
        "\n",
        "shelves = []\n",
        "dropZone = []\n",
        "for i in range(s_map_y):\n",
        "    for j in range(s_map_x):\n",
        "        if map_for_block[i][j] == 1:\n",
        "            item = {\n",
        "                \"x\": i,\n",
        "                \"y\": j\n",
        "            }\n",
        "            shelves.append(item)\n",
        "        elif map_for_block[i][j] == 2:\n",
        "            item = {\n",
        "                \"x\": i,\n",
        "                \"y\": j\n",
        "            }\n",
        "            dropZone.append(item)\n",
        "output['map']['shelves'] = shelves\n",
        "output['map']['dropZone'] = dropZone\n",
        "with open(\"visual_sample_map.json\", \"w\") as f:\n",
        "    json.dump(output, f)\n",
        "#print(json.dumps(output, indent=3))\n",
        "\n",
        "\n",
        "  \n",
        "\n"
      ],
      "metadata": {
        "id": "xNdyaTAUB9ge"
      },
      "execution_count": 23,
      "outputs": []
    }
  ]
}