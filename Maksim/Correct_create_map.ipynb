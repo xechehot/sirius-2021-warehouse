{
  "nbformat": 4,
  "nbformat_minor": 0,
  "metadata": {
    "colab": {
      "name": "Create_map.ipynb",
      "provenance": [],
      "include_colab_link": true
    },
    "kernelspec": {
      "name": "python3",
      "display_name": "Python 3"
    },
    "language_info": {
      "name": "python"
    }
  },
  "cells": [
    {
      "cell_type": "markdown",
      "metadata": {
        "id": "view-in-github",
        "colab_type": "text"
      },
      "source": [
        "<a href=\"https://colab.research.google.com/github/xechehot/sirius-2021-warehouse/blob/main/Maksim/Correct_create_map.ipynb\" target=\"_parent\"><img src=\"https://colab.research.google.com/assets/colab-badge.svg\" alt=\"Open In Colab\"/></a>"
      ]
    },
    {
      "cell_type": "code",
      "execution_count": 2,
      "metadata": {
        "colab": {
          "base_uri": "https://localhost:8080/"
        },
        "id": "YKcQESC99eM-",
        "outputId": "8c1ee53c-5a12-4afd-fb3b-2df9db19488b"
      },
      "outputs": [
        {
          "output_type": "stream",
          "name": "stdout",
          "text": [
            "fatal: destination path 'sirius-2021-warehouse' already exists and is not an empty directory.\n"
          ]
        }
      ],
      "source": [
        "!git clone https://github.com/xechehot/sirius-2021-warehouse"
      ]
    },
    {
      "cell_type": "code",
      "source": [
        "! cd sirius-2021-warehouse; git pull"
      ],
      "metadata": {
        "id": "b13XZT94-rg3",
        "outputId": "a88c5fd4-e15c-4352-b616-8967f4655bd6",
        "colab": {
          "base_uri": "https://localhost:8080/"
        }
      },
      "execution_count": 3,
      "outputs": [
        {
          "output_type": "stream",
          "name": "stdout",
          "text": [
            "Already up to date.\n"
          ]
        }
      ]
    },
    {
      "cell_type": "code",
      "source": [
        "from json import load as JLoad\n",
        "\n",
        "with open('sirius-2021-warehouse/data_sample/sample_64_1.json', 'r') as f:\n",
        "  data = JLoad(f) \n",
        "\n",
        "#data"
      ],
      "metadata": {
        "id": "p3FqG1H199lK"
      },
      "execution_count": 9,
      "outputs": []
    },
    {
      "cell_type": "code",
      "source": [
        "floors = data['warehouse']['meta']['floors']\n",
        "block_x = data['warehouse']['meta']['block_x']\n",
        "block_y = data['warehouse']['meta']['block_y']\n",
        "rows = data['warehouse']['meta']['rows'] \n",
        "sections = data['warehouse']['meta']['sections']\n",
        "\n",
        "floors, block_x, block_y, rows, sections"
      ],
      "metadata": {
        "colab": {
          "base_uri": "https://localhost:8080/"
        },
        "id": "2NSo2V-NAOJ6",
        "outputId": "20182b3f-6657-4253-921f-5a77fbd00d5b"
      },
      "execution_count": 10,
      "outputs": [
        {
          "output_type": "execute_result",
          "data": {
            "text/plain": [
              "(1, 1, 2, 4, 8)"
            ]
          },
          "metadata": {},
          "execution_count": 10
        }
      ]
    },
    {
      "cell_type": "code",
      "source": [
        "import json\n",
        "\n",
        "Map_y = (3 * rows) // 2 + 1\n",
        "Map_x = sections + 2\n",
        " \n",
        "s_map_x = block_x * Map_x\n",
        "s_map_y = block_y * Map_y\n",
        "\n",
        "map_for_block = [[0 for i in range(s_map_y)] for j in range(s_map_x)]\n",
        "\n",
        "\n",
        "MAP = []\n",
        "\n",
        "for i in range(Map_x):\n",
        "  MAP.append([0 for _ in range(Map_y)])\n",
        "  if i == 0 or i == Map_x - 1:\n",
        "    continue\n",
        "  for j in range(Map_y):\n",
        "    if j % 3 != 0:\n",
        "      MAP[i][j] = 1\n",
        "\n",
        "\n",
        "# print(Map_x, Map_y)\n",
        "\n",
        "\n",
        "\n",
        "# for i in MAP:\n",
        "#  for j in i:\n",
        "  #  print(j, end = ' ')\n",
        "#  print('')\n",
        "\n",
        "\n",
        "for i in range(s_map_x):\n",
        "  for j in range(s_map_y):\n",
        "    map_for_block[i][j] = MAP[i % Map_x][j % Map_y]\n",
        "\n",
        "for i in range (s_map_y):\n",
        "  map_for_block[0][i] = 2\n",
        "\n",
        "startx = s_map_x - 1\n",
        "starty = s_map_y // 2\n",
        "\n",
        "# for i in map_for_block:\n",
        "#  for j in i:\n",
        "  #  print(j, end = ' ')\n",
        "#  print('')\n",
        "\n",
        "output = {\n",
        "      \"map\": {\n",
        "          \"dimensions\": {\n",
        "              \"x\": s_map_x,\n",
        "              \"y\": s_map_y\n",
        "          },\n",
        "          \"shelves\": [\n",
        "                      \n",
        "          ],\n",
        "          \"dropZone\": [\n",
        "                  \n",
        "          ],\n",
        "          \"start\": {\n",
        "            \"x\": s_map_x - 1,\n",
        "            \"y\": s_map_y // 2 \n",
        "        }\n",
        "      },\n",
        "      \"items\": [\n",
        "                \n",
        "      ],\n",
        "}\n",
        "\n",
        "shelves = []\n",
        "dropZone = []\n",
        "for i in range(s_map_x):\n",
        "    for j in range(s_map_y):\n",
        "        if map_for_block[i][j] == 1:\n",
        "            item = {\n",
        "                \"x\": i,\n",
        "                \"y\": j\n",
        "            }\n",
        "            shelves.append(item)\n",
        "        elif map_for_block[i][j] == 2:\n",
        "            item = {\n",
        "                \"x\": i,\n",
        "                \"y\": j\n",
        "            }\n",
        "            dropZone.append(item)\n",
        "output['map']['shelves'] = shelves\n",
        "output['map']['dropZone'] = dropZone\n",
        "with open(\"visual_sample_map.json\", \"w\") as f:\n",
        "  json.dump(output, f)\n",
        "# print(json.dumps(output, indent=3))\n"
      ],
      "metadata": {
        "id": "xNdyaTAUB9ge"
      },
      "execution_count": 17,
      "outputs": []
    }
  ]
}