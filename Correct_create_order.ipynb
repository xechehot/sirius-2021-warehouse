{
  "nbformat": 4,
  "nbformat_minor": 0,
  "metadata": {
    "colab": {
      "name": "Untitled2.ipynb",
      "provenance": [],
      "authorship_tag": "ABX9TyNeTk6ftBeGOmt/NbycykAw",
      "include_colab_link": true
    },
    "kernelspec": {
      "name": "python3",
      "display_name": "Python 3"
    },
    "language_info": {
      "name": "python"
    }
  },
  "cells": [
    {
      "cell_type": "markdown",
      "metadata": {
        "id": "view-in-github",
        "colab_type": "text"
      },
      "source": [
        "<a href=\"https://colab.research.google.com/github/xechehot/sirius-2021-warehouse/blob/main/Correct_create_order.ipynb\" target=\"_parent\"><img src=\"https://colab.research.google.com/assets/colab-badge.svg\" alt=\"Open In Colab\"/></a>"
      ]
    },
    {
      "cell_type": "code",
      "execution_count": 1,
      "metadata": {
        "id": "wxBiAADcRWXQ"
      },
      "outputs": [],
      "source": [
        "import json"
      ]
    },
    {
      "cell_type": "code",
      "source": [
        "!git clone https://github.com/xechehot/sirius-2021-warehouse"
      ],
      "metadata": {
        "colab": {
          "base_uri": "https://localhost:8080/"
        },
        "id": "IX3NOPflRfDT",
        "outputId": "1fc11698-cbfa-4746-db14-f55cf70f299a"
      },
      "execution_count": 4,
      "outputs": [
        {
          "output_type": "stream",
          "name": "stdout",
          "text": [
            "fatal: destination path 'sirius-2021-warehouse' already exists and is not an empty directory.\n"
          ]
        }
      ]
    },
    {
      "cell_type": "code",
      "source": [
        "! cd sirius-2021-warehouse; git pull"
      ],
      "metadata": {
        "colab": {
          "base_uri": "https://localhost:8080/"
        },
        "id": "h_O2kSpPS-ei",
        "outputId": "bb6a5ed3-d8ff-40e1-99c5-5eeb25067521"
      },
      "execution_count": 63,
      "outputs": [
        {
          "output_type": "stream",
          "name": "stdout",
          "text": [
            "remote: Enumerating objects: 13, done.\u001b[K\n",
            "remote: Counting objects:   7% (1/13)\u001b[K\rremote: Counting objects:  15% (2/13)\u001b[K\rremote: Counting objects:  23% (3/13)\u001b[K\rremote: Counting objects:  30% (4/13)\u001b[K\rremote: Counting objects:  38% (5/13)\u001b[K\rremote: Counting objects:  46% (6/13)\u001b[K\rremote: Counting objects:  53% (7/13)\u001b[K\rremote: Counting objects:  61% (8/13)\u001b[K\rremote: Counting objects:  69% (9/13)\u001b[K\rremote: Counting objects:  76% (10/13)\u001b[K\rremote: Counting objects:  84% (11/13)\u001b[K\rremote: Counting objects:  92% (12/13)\u001b[K\rremote: Counting objects: 100% (13/13)\u001b[K\rremote: Counting objects: 100% (13/13), done.\u001b[K\n",
            "remote: Compressing objects:  20% (1/5)\u001b[K\rremote: Compressing objects:  40% (2/5)\u001b[K\rremote: Compressing objects:  60% (3/5)\u001b[K\rremote: Compressing objects:  80% (4/5)\u001b[K\rremote: Compressing objects: 100% (5/5)\u001b[K\rremote: Compressing objects: 100% (5/5), done.\u001b[K\n",
            "remote: Total 8 (delta 6), reused 4 (delta 3), pack-reused 0\u001b[K\n",
            "Unpacking objects:  12% (1/8)   \rUnpacking objects:  25% (2/8)   \rUnpacking objects:  37% (3/8)   \rUnpacking objects:  50% (4/8)   \rUnpacking objects:  62% (5/8)   \rUnpacking objects:  75% (6/8)   \rUnpacking objects:  87% (7/8)   \rUnpacking objects: 100% (8/8)   \rUnpacking objects: 100% (8/8), done.\n",
            "From https://github.com/xechehot/sirius-2021-warehouse\n",
            "   8595e7d..3d0169b  main       -> origin/main\n",
            "Updating 8595e7d..3d0169b\n",
            "Fast-forward\n",
            " Maksim/Correct_create_map.ipynb            | 106 \u001b[32m++\u001b[m\u001b[31m--\u001b[m\n",
            " data_sample_output/output_64_1_stepan.json | 974 \u001b[32m++++++\u001b[m\u001b[31m-----------------------\u001b[m\n",
            " 2 files changed, 223 insertions(+), 857 deletions(-)\n"
          ]
        }
      ]
    },
    {
      "cell_type": "code",
      "source": [
        "from json import load as JLoad\n",
        "\n",
        "with open('sirius-2021-warehouse/data_sample_output/output_64_1_stepan.json', 'r') as f:\n",
        "  data = JLoad(f) "
      ],
      "metadata": {
        "id": "xpkF3O4PTte1"
      },
      "execution_count": 64,
      "outputs": []
    },
    {
      "cell_type": "code",
      "source": [
        "with open('sirius-2021-warehouse/data_sample/sample_64_1.json', 'r') as f:\n",
        "  sample_data = JLoad(f) "
      ],
      "metadata": {
        "id": "OxryMeJNZdNF"
      },
      "execution_count": 65,
      "outputs": []
    },
    {
      "cell_type": "code",
      "source": [
        "floors = sample_data['warehouse']['meta']['floors']\n",
        "block_x = sample_data['warehouse']['meta']['block_x']\n",
        "block_y = sample_data['warehouse']['meta']['block_y']\n",
        "rows = sample_data['warehouse']['meta']['rows'] \n",
        "sections = sample_data['warehouse']['meta']['sections']"
      ],
      "metadata": {
        "id": "4eWGFQ-MZv-N"
      },
      "execution_count": 66,
      "outputs": []
    },
    {
      "cell_type": "code",
      "source": [
        "def conv(place): \n",
        "    x = (sections + 2) * (place['block_x'] - 1)\n",
        "    x += place['section']\n",
        "    y = ((3 * rows) // 2 + 1) * (place['block_y'] - 1)\n",
        "    y += (place['row'] // 2) * 3\n",
        "    return [x, y]"
      ],
      "metadata": {
        "id": "a2SneZnwXkms"
      },
      "execution_count": 67,
      "outputs": []
    },
    {
      "cell_type": "code",
      "source": [
        "def normolize_path(path, start):\n",
        "    path.append([0, path[-1][1]])\n",
        "    path.append(start)\n",
        "    res = [path[0]]\n",
        "    for i in range(1, len(path)):\n",
        "        if [path[i - 1][0], path[i][1]] != res[-1]:\n",
        "            res.append([path[i - 1][0], path[i][1]])\n",
        "        if path[i] != res[-1]:\n",
        "            res.append(path[i])\n",
        "        #print(res)\n",
        "    return res"
      ],
      "metadata": {
        "id": "R6De1sJdcx6K"
      },
      "execution_count": 79,
      "outputs": []
    },
    {
      "cell_type": "code",
      "source": [
        "paths = []\n",
        "map_y = ((3 * rows) // 2 + 1)\n",
        "map_x = (sections + 2)\n",
        "sx = block_x * map_x - 1\n",
        "sy = block_y * map_y // 2\n",
        "for batch in data['batches']:\n",
        "    for bucket in batch['buckets']:\n",
        "        paths.append(bucket['items'])\n",
        "ans = []\n",
        "for bucket in paths:\n",
        "    n_bucket = [[sx, sy]]\n",
        "    for place in bucket:\n",
        "        n_bucket.append(conv(place))\n",
        "    ans.append(n_bucket)\n",
        "\n",
        "output = {\n",
        "    \"agentsCount\": 2,\n",
        "    \"orders\": [\n",
        "               \n",
        "    ]\n",
        "}\n",
        "\n",
        "for bucket in ans:\n",
        "    #print(bucket)\n",
        "    res = normolize_path(bucket, [sx, sy])\n",
        "    bucket = {\n",
        "        \"items\": [\n",
        "                  \n",
        "        ],\n",
        "        \"path\": [\n",
        "             \n",
        "        ]\n",
        "    }\n",
        "    for x, y in res:\n",
        "        place = {\n",
        "            \"x\": x,\n",
        "            \"y\": y\n",
        "        }\n",
        "        bucket['path'].append(place)\n",
        "    output['orders'].append(bucket)\n",
        "#print(json.dumps(output, indent=2))\n",
        "with open(\"visual_sample_order.json\", \"w\") as f:\n",
        "    json.dump(output, f)         "
      ],
      "metadata": {
        "id": "ylhPa9u0UhOO"
      },
      "execution_count": 85,
      "outputs": []
    }
  ]
}