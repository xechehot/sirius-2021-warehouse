{
  "nbformat": 4,
  "nbformat_minor": 0,
  "metadata": {
    "colab": {
      "name": "Create_map.ipynb",
      "provenance": [],
      "include_colab_link": true
    },
    "kernelspec": {
      "name": "python3",
      "display_name": "Python 3"
    },
    "language_info": {
      "name": "python"
    }
  },
  "cells": [
    {
      "cell_type": "markdown",
      "metadata": {
        "id": "view-in-github",
        "colab_type": "text"
      },
      "source": [
        "<a href=\"https://colab.research.google.com/github/xechehot/sirius-2021-warehouse/blob/main/Maksim/Create_map_for_Maks.ipynb\" target=\"_parent\"><img src=\"https://colab.research.google.com/assets/colab-badge.svg\" alt=\"Open In Colab\"/></a>"
      ]
    },
    {
      "cell_type": "code",
      "execution_count": 1,
      "metadata": {
        "colab": {
          "base_uri": "https://localhost:8080/"
        },
        "id": "YKcQESC99eM-",
        "outputId": "371f41a2-f80f-4c5d-8f46-7a9ff4ab7b3d"
      },
      "outputs": [
        {
          "output_type": "stream",
          "name": "stdout",
          "text": [
            "Cloning into 'sirius-2021-warehouse'...\n",
            "remote: Enumerating objects: 366, done.\u001b[K\n",
            "remote: Counting objects: 100% (366/366), done.\u001b[K\n",
            "remote: Compressing objects: 100% (270/270), done.\u001b[K\n",
            "remote: Total 366 (delta 219), reused 206 (delta 85), pack-reused 0\u001b[K\n",
            "Receiving objects: 100% (366/366), 387.16 KiB | 4.16 MiB/s, done.\n",
            "Resolving deltas: 100% (219/219), done.\n"
          ]
        }
      ],
      "source": [
        "!git clone https://github.com/xechehot/sirius-2021-warehouse"
      ]
    },
    {
      "cell_type": "code",
      "source": [
        "! cd sirius-2021-warehouse; git pull"
      ],
      "metadata": {
        "id": "b13XZT94-rg3"
      },
      "execution_count": null,
      "outputs": []
    },
    {
      "cell_type": "code",
      "source": [
        "from json import load as JLoad\n",
        "\n",
        "with open('sirius-2021-warehouse/data_sample/sample_400_1.json', 'r') as f:\n",
        "  data = JLoad(f) \n",
        "\n",
        "data"
      ],
      "metadata": {
        "colab": {
          "base_uri": "https://localhost:8080/"
        },
        "id": "p3FqG1H199lK",
        "outputId": "b3a4ea3f-b8ab-41c4-d409-11cd0462b43e"
      },
      "execution_count": 2,
      "outputs": [
        {
          "output_type": "execute_result",
          "data": {
            "text/plain": [
              "{'batch_size': 10,\n",
              " 'orders': [{'items': [{'count': 1, 'id': 1}]}],\n",
              " 'warehouse': {'meta': {'block_x': 1,\n",
              "   'block_y': 2,\n",
              "   'floors': 1,\n",
              "   'rows': 20,\n",
              "   'sections': 10},\n",
              "  'stock': [{'count': 1,\n",
              "    'id': 1,\n",
              "    'p': {'block_x': 1, 'block_y': 1, 'floor': 1, 'row': 10, 'section': 2}}]}}"
            ]
          },
          "metadata": {},
          "execution_count": 2
        }
      ]
    },
    {
      "cell_type": "code",
      "source": [
        "floors = data['warehouse']['meta']['floors']\n",
        "block_x = 2\n",
        "block_y = 2\n",
        "rows = data['warehouse']['meta']['rows']\n",
        "sections = data['warehouse']['meta']['sections']\n",
        "\n",
        "floors, block_x, block_y, rows, sections"
      ],
      "metadata": {
        "colab": {
          "base_uri": "https://localhost:8080/"
        },
        "id": "2NSo2V-NAOJ6",
        "outputId": "8699dcf8-4a26-4e76-b492-cc01e6a06829"
      },
      "execution_count": 3,
      "outputs": [
        {
          "output_type": "execute_result",
          "data": {
            "text/plain": [
              "(1, 2, 2, 20, 10)"
            ]
          },
          "metadata": {},
          "execution_count": 3
        }
      ]
    },
    {
      "cell_type": "code",
      "source": [
        "import json\n",
        "\n",
        "Map_x = (3 * rows) // 2 + 1\n",
        "Map_y = sections + 2\n",
        " \n",
        "s_map_x = block_x * Map_x\n",
        "s_map_y = block_y * Map_y\n",
        "\n",
        "map_for_block = [[0 for i in range(s_map_x)] for j in range(s_map_y)]\n",
        "\n",
        "\n",
        "MAP = []\n",
        "\n",
        "for i in range(Map_y):\n",
        "  MAP.append([0 for _ in range(Map_x)])\n",
        "  if i == 0 or i == Map_y-1:\n",
        "    continue\n",
        "  for j in range(Map_x):\n",
        "    if j % 3 != 0:\n",
        "      MAP[i][j] = 1\n",
        "\n",
        "\n",
        "#print(Map_x, Map_y)\n",
        "\n",
        "#for i in MAP:\n",
        "#  for j in i:\n",
        "#    print(j, end = ' ')\n",
        "#  print('')\n",
        "\n",
        "for i in range(s_map_y):\n",
        "  for j in range(s_map_x):\n",
        "    map_for_block[i][j] = MAP[i % Map_y][j % Map_x]\n",
        "\n",
        "for i in range (s_map_x):\n",
        "  map_for_block[0][i] = 2\n",
        "\n",
        "startx = s_map_x / 2\n",
        "starty = s_map_y - 1\n",
        "\n",
        "#for i in map_for_block:\n",
        "#  for j in i:\n",
        "#    print(j, end = ' ')\n",
        "#  print('')\n",
        "\n",
        "output = {\n",
        "      \"map\": {\n",
        "          \"dimensions\": {\n",
        "              \"x\": s_map_x,\n",
        "              \"y\": s_map_y\n",
        "          }\n",
        "      },\n",
        "      \"shelves\": [\n",
        "                  \n",
        "      ],\n",
        "      \"dropZone\": [\n",
        "                  \n",
        "      ],\n",
        "      \"items\": [\n",
        "                \n",
        "      ]\n",
        "}\n",
        "\n",
        "shelves = []\n",
        "dropZone = []\n",
        "for i in range(s_map_y):\n",
        "    for j in range(s_map_x):\n",
        "        if map_for_block[i][j] == 1:\n",
        "            item = {\n",
        "                \"x\": i,\n",
        "                \"y\": j\n",
        "            }\n",
        "            shelves.append(item)\n",
        "        elif map_for_block[i][j] == 2:\n",
        "            item = {\n",
        "                \"x\": i,\n",
        "                \"y\": j\n",
        "            }\n",
        "            dropZone.append(item)\n",
        "output['shelves'] = shelves\n",
        "output['dropZone'] = dropZone\n",
        "with open(\"visual_sample_map.json\", \"w\") as f:\n",
        "    json.dump(output, f)\n",
        "#print(json.dumps(output, indent=3))\n",
        "\n",
        "\n",
        "  \n",
        "\n"
      ],
      "metadata": {
        "id": "xNdyaTAUB9ge"
      },
      "execution_count": 17,
      "outputs": []
    }
  ]
}