{
  "nbformat": 4,
  "nbformat_minor": 0,
  "metadata": {
    "colab": {
      "name": "Untitled2.ipynb",
      "provenance": [],
      "authorship_tag": "ABX9TyOvFNI6gKPe5/ycdCQ2iAhK",
      "include_colab_link": true
    },
    "kernelspec": {
      "name": "python3",
      "display_name": "Python 3"
    },
    "language_info": {
      "name": "python"
    }
  },
  "cells": [
    {
      "cell_type": "markdown",
      "metadata": {
        "id": "view-in-github",
        "colab_type": "text"
      },
      "source": [
        "<a href=\"https://colab.research.google.com/github/xechehot/sirius-2021-warehouse/blob/main/Maksim/Correct_create_order.ipynb\" target=\"_parent\"><img src=\"https://colab.research.google.com/assets/colab-badge.svg\" alt=\"Open In Colab\"/></a>"
      ]
    },
    {
      "cell_type": "code",
      "execution_count": null,
      "metadata": {
        "id": "wxBiAADcRWXQ"
      },
      "outputs": [],
      "source": [
        "import json"
      ]
    },
    {
      "cell_type": "code",
      "source": [
        "!git clone https://github.com/xechehot/sirius-2021-warehouse"
      ],
      "metadata": {
        "colab": {
          "base_uri": "https://localhost:8080/"
        },
        "id": "IX3NOPflRfDT",
        "outputId": "d75e77c8-470c-4c76-aef6-4bd73243fc4a"
      },
      "execution_count": null,
      "outputs": [
        {
          "output_type": "stream",
          "name": "stdout",
          "text": [
            "fatal: destination path 'sirius-2021-warehouse' already exists and is not an empty directory.\n"
          ]
        }
      ]
    },
    {
      "cell_type": "code",
      "source": [
        "! cd sirius-2021-warehouse; git pull"
      ],
      "metadata": {
        "colab": {
          "base_uri": "https://localhost:8080/"
        },
        "id": "h_O2kSpPS-ei",
        "outputId": "98354178-966d-44e7-e16c-6511ac88f28b"
      },
      "execution_count": null,
      "outputs": [
        {
          "output_type": "stream",
          "name": "stdout",
          "text": [
            "Already up to date.\n"
          ]
        }
      ]
    },
    {
      "cell_type": "code",
      "source": [
        "from json import load as JLoad\n",
        "\n",
        "with open('sirius-2021-warehouse/data_sample_output/output_64_1_Maksim.json', 'r') as f:\n",
        "  data = JLoad(f) "
      ],
      "metadata": {
        "id": "xpkF3O4PTte1"
      },
      "execution_count": null,
      "outputs": []
    },
    {
      "cell_type": "code",
      "source": [
        "with open('sirius-2021-warehouse/data_sample/sample_64_1.json', 'r') as f:\n",
        "  sample_data = JLoad(f) "
      ],
      "metadata": {
        "id": "OxryMeJNZdNF"
      },
      "execution_count": null,
      "outputs": []
    },
    {
      "cell_type": "code",
      "source": [
        "floors = sample_data['warehouse']['meta']['floors']\n",
        "block_x = sample_data['warehouse']['meta']['block_x']\n",
        "block_y = sample_data['warehouse']['meta']['block_y']\n",
        "rows = sample_data['warehouse']['meta']['rows'] \n",
        "sections = sample_data['warehouse']['meta']['sections']"
      ],
      "metadata": {
        "id": "4eWGFQ-MZv-N"
      },
      "execution_count": null,
      "outputs": []
    },
    {
      "cell_type": "code",
      "source": [
        "def conv(place): \n",
        "    x = (sections + 2) * (place['block_x'] - 1)\n",
        "    x += place['section']\n",
        "    y = ((3 * rows) // 2 + 1) * (place['block_y'] - 1)\n",
        "    y += (place['row'] // 2) * 3\n",
        "    return [x, y]"
      ],
      "metadata": {
        "id": "a2SneZnwXkms"
      },
      "execution_count": null,
      "outputs": []
    },
    {
      "cell_type": "code",
      "source": [
        "def conv_for_good(place):\n",
        "    x = (sections + 2) * (place['block_x'] - 1)\n",
        "    x += place['section']\n",
        "    y = ((3 * rows) // 2 + 1) * (place['block_y'] - 1)\n",
        "    y += (place['row'] // 2) * 3\n",
        "    #print(y)\n",
        "    if place['row'] % 2 == 0:\n",
        "        y -= 1\n",
        "    else: \n",
        "        y += 1\n",
        "    return [x, y]"
      ],
      "metadata": {
        "id": "7iCaZjoCzp1H"
      },
      "execution_count": null,
      "outputs": []
    },
    {
      "cell_type": "code",
      "source": [
        "def get_path_for_2_places(x1, y1, x2, y2):\n",
        "    ans = []\n",
        "    if y1 == y2:\n",
        "        ans.append([x1, y1])\n",
        "        ans.append([x2, y2])\n",
        "        return ans\n",
        "    ans.append([x1, y1])\n",
        "    up_x = (x1 // map_x) * map_x\n",
        "    ans.append([up_x, y1])\n",
        "    ans.append([up_x, y2])\n",
        "    ans.append([x2, y2])\n",
        "    return ans\n",
        "\n",
        "\n",
        "def normolize_path(path, start):\n",
        "    path.append([0, path[-1][1]])\n",
        "    path.append(start)\n",
        "    res = []\n",
        "    for i in range(1, len(path)):\n",
        "        cur = get_path_for_2_places(path[i - 1][0], path[i - 1][1], path[i][0], path[i][1])\n",
        "        for elem in cur:\n",
        "            if len(res) == 0 or elem != res[-1]:\n",
        "                res.append(elem)\n",
        "    return res"
      ],
      "metadata": {
        "id": "R6De1sJdcx6K"
      },
      "execution_count": null,
      "outputs": []
    },
    {
      "cell_type": "code",
      "source": [
        "paths = []\n",
        "map_y = ((3 * rows) // 2 + 1)\n",
        "map_x = (sections + 2)\n",
        "sx = block_x * map_x - 1\n",
        "sy = block_y * map_y // 2\n",
        "for batch in data['batches']:\n",
        "    for bucket in batch['buckets']:\n",
        "        #print(bucket)\n",
        "        paths.append(bucket['items'])\n",
        "ans = []\n",
        "ans2 = []\n",
        "for bucket in paths:\n",
        "    #print(bucket)\n",
        "    n_bucket = [[sx, sy]]\n",
        "    items_bucket = []\n",
        "    for place in bucket:\n",
        "        n_bucket.append(conv(place))\n",
        "    ans.append(n_bucket)\n",
        "    ans2.append(bucket)\n",
        "    #print(bucket)\n",
        "\n",
        "output = {\n",
        "    \"agentsCount\": 2,\n",
        "    \"orders\": [\n",
        "\n",
        "    ]\n",
        "}\n",
        "\n",
        "for i in range(len(ans)):\n",
        "    bucket = ans[i]\n",
        "    products = ans2[i]\n",
        "    res = normolize_path(bucket, [sx, sy])\n",
        "    bucket = {\n",
        "        \"items\": [\n",
        "                  \n",
        "        ],\n",
        "        \"path\": [\n",
        "             \n",
        "        ]\n",
        "    }\n",
        "    for place in products:\n",
        "        x, y = conv_for_good(place)\n",
        "        wtf = {\n",
        "            \"position\": {\n",
        "                \"x\": x,\n",
        "                \"y\": y\n",
        "            },\n",
        "            \"id\": place['id'],\n",
        "            \"amount\": place['cnt']\n",
        "        }\n",
        "        bucket['items'].append(wtf)\n",
        "    for x, y in res:\n",
        "        place = {\n",
        "            \"x\": x,\n",
        "            \"y\": y\n",
        "        }\n",
        "        bucket['path'].append(place)\n",
        "    output['orders'].append(bucket)\n",
        "#print(json.dumps(output, indent=2))\n",
        "with open(\"visual_sample_order.json\", \"w\") as f:\n",
        "    json.dump(output, f)         "
      ],
      "metadata": {
        "id": "ylhPa9u0UhOO"
      },
      "execution_count": null,
      "outputs": []
    }
  ]
}