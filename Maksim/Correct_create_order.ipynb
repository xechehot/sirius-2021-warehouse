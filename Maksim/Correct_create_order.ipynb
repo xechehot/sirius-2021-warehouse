{
  "nbformat": 4,
  "nbformat_minor": 0,
  "metadata": {
    "colab": {
      "name": "Untitled2.ipynb",
      "provenance": [],
      "include_colab_link": true
    },
    "kernelspec": {
      "name": "python3",
      "display_name": "Python 3"
    },
    "language_info": {
      "name": "python"
    }
  },
  "cells": [
    {
      "cell_type": "markdown",
      "metadata": {
        "id": "view-in-github",
        "colab_type": "text"
      },
      "source": [
        "<a href=\"https://colab.research.google.com/github/xechehot/sirius-2021-warehouse/blob/main/Maksim/Correct_create_order.ipynb\" target=\"_parent\"><img src=\"https://colab.research.google.com/assets/colab-badge.svg\" alt=\"Open In Colab\"/></a>"
      ]
    },
    {
      "cell_type": "code",
      "execution_count": 1,
      "metadata": {
        "id": "wxBiAADcRWXQ"
      },
      "outputs": [],
      "source": [
        "import json"
      ]
    },
    {
      "cell_type": "code",
      "source": [
        "!git clone https://github.com/xechehot/sirius-2021-warehouse"
      ],
      "metadata": {
        "colab": {
          "base_uri": "https://localhost:8080/"
        },
        "id": "IX3NOPflRfDT",
        "outputId": "d84b4266-a79b-43ea-e7ca-eefe9bb4efbc"
      },
      "execution_count": 2,
      "outputs": [
        {
          "output_type": "stream",
          "name": "stdout",
          "text": [
            "Cloning into 'sirius-2021-warehouse'...\n",
            "remote: Enumerating objects: 423, done.\u001b[K\n",
            "remote: Counting objects: 100% (423/423), done.\u001b[K\n",
            "remote: Compressing objects: 100% (317/317), done.\u001b[K\n",
            "remote: Total 423 (delta 263), reused 225 (delta 95), pack-reused 0\u001b[K\n",
            "Receiving objects: 100% (423/423), 415.85 KiB | 4.20 MiB/s, done.\n",
            "Resolving deltas: 100% (263/263), done.\n"
          ]
        }
      ]
    },
    {
      "cell_type": "code",
      "source": [
        "! cd sirius-2021-warehouse; git pull"
      ],
      "metadata": {
        "colab": {
          "base_uri": "https://localhost:8080/"
        },
        "id": "h_O2kSpPS-ei",
        "outputId": "93661854-69ab-419f-a9e9-e8d52eb7a4ec"
      },
      "execution_count": 3,
      "outputs": [
        {
          "output_type": "stream",
          "name": "stdout",
          "text": [
            "Already up to date.\n"
          ]
        }
      ]
    },
    {
      "cell_type": "code",
      "source": [
        "from json import load as JLoad\n",
        "\n",
        "with open('sirius-2021-warehouse/data_sample_output/output_64_1_stepan.json', 'r') as f:\n",
        "  data = JLoad(f) "
      ],
      "metadata": {
        "id": "xpkF3O4PTte1"
      },
      "execution_count": 4,
      "outputs": []
    },
    {
      "cell_type": "code",
      "source": [
        "with open('sirius-2021-warehouse/data_sample/sample_64_1.json', 'r') as f:\n",
        "  sample_data = JLoad(f) "
      ],
      "metadata": {
        "id": "OxryMeJNZdNF"
      },
      "execution_count": 5,
      "outputs": []
    },
    {
      "cell_type": "code",
      "source": [
        "# bucket_item из результатов работы алгоритма выглядит так:\n",
        "bucket_item_example = {\n",
        "    \"block_x\": 1,\n",
        "    \"block_y\": 2,\n",
        "    \"cnt\": 1,\n",
        "    \"floor\": 1,\n",
        "    \"id\": 68542596,\n",
        "    \"row\": 19,\n",
        "    \"section\": 6\n",
        "}"
      ],
      "metadata": {
        "id": "OMMUomq-2HZx"
      },
      "execution_count": 13,
      "outputs": []
    },
    {
      "cell_type": "code",
      "source": [
        "# Эта функция конвертирует bucket_item в item для order-a\n",
        "def get_out_coordinates(bucket_item):\n",
        "    # ТУТ НУЖНО ПРАВИЛЬНО ПОСЧИТАТЬ КООРДИНТЫ x и y из bucket_item['p']\n",
        "    return {\n",
        "      \"position\": {\n",
        "        \"x\": 0,\n",
        "        \"y\": 0\n",
        "      },\n",
        "      \"id\": bucket_item['id'],\n",
        "      \"amount\": bucket_item['cnt']\n",
        "    }"
      ],
      "metadata": {
        "id": "XvkFmiiP12Qh"
      },
      "execution_count": 11,
      "outputs": []
    },
    {
      "cell_type": "code",
      "source": [
        "get_out_coordinates(bucket_item_example)"
      ],
      "metadata": {
        "id": "B1dLp2vz3DEI",
        "outputId": "4951a163-093e-45a5-e56d-aaa06e010fc5",
        "colab": {
          "base_uri": "https://localhost:8080/"
        }
      },
      "execution_count": 14,
      "outputs": [
        {
          "output_type": "execute_result",
          "data": {
            "text/plain": [
              "{'amount': 1, 'id': 68542596, 'position': {'x': 0, 'y': 0}}"
            ]
          },
          "metadata": {},
          "execution_count": 14
        }
      ]
    },
    {
      "cell_type": "code",
      "source": [
        "def convert_bucket_to_items(bucket_items):\n",
        "    out_items = []\n",
        "    for item in bucket_items:\n",
        "        out_items.append(get_out_coordinates(item))\n",
        "    return out_items"
      ],
      "metadata": {
        "id": "1rfSEpp22rDp"
      },
      "execution_count": 19,
      "outputs": []
    },
    {
      "cell_type": "markdown",
      "source": [
        "## Создаем order для визуализации"
      ],
      "metadata": {
        "id": "3uvBWmoX12sa"
      }
    },
    {
      "cell_type": "code",
      "source": [
        "floors = sample_data['warehouse']['meta']['floors']\n",
        "block_x = sample_data['warehouse']['meta']['block_x']\n",
        "block_y = sample_data['warehouse']['meta']['block_y']\n",
        "rows = sample_data['warehouse']['meta']['rows'] \n",
        "sections = sample_data['warehouse']['meta']['sections']"
      ],
      "metadata": {
        "id": "4eWGFQ-MZv-N"
      },
      "execution_count": 6,
      "outputs": []
    },
    {
      "cell_type": "code",
      "source": [
        "def conv(place): \n",
        "    x = (sections + 2) * (place['block_x'] - 1)\n",
        "    x += place['section']\n",
        "    y = ((3 * rows) // 2 + 1) * (place['block_y'] - 1)\n",
        "    y += (place['row'] // 2) * 3\n",
        "    return [x, y]"
      ],
      "metadata": {
        "id": "a2SneZnwXkms"
      },
      "execution_count": 7,
      "outputs": []
    },
    {
      "cell_type": "code",
      "source": [
        "def normolize_path(path, start):\n",
        "    path.append([0, path[-1][1]])\n",
        "    path.append(start)\n",
        "    res = [path[0]]\n",
        "    for i in range(1, len(path)):\n",
        "        if [path[i - 1][0], path[i][1]] != res[-1]:\n",
        "            res.append([path[i - 1][0], path[i][1]])\n",
        "        if path[i] != res[-1]:\n",
        "            res.append(path[i])\n",
        "        #print(res)\n",
        "    return res"
      ],
      "metadata": {
        "id": "R6De1sJdcx6K"
      },
      "execution_count": 8,
      "outputs": []
    },
    {
      "cell_type": "code",
      "source": [
        "paths = []\n",
        "map_y = ((3 * rows) // 2 + 1)\n",
        "map_x = (sections + 2)\n",
        "sx = block_x * map_x - 1\n",
        "sy = block_y * map_y // 2\n",
        "for batch in data['batches']:\n",
        "    for bucket in batch['buckets']:\n",
        "        paths.append(bucket['items'])\n",
        "ans = []\n",
        "for bucket in paths:\n",
        "    n_bucket = [[sx, sy]]\n",
        "    for place in bucket:\n",
        "        n_bucket.append(conv(place))\n",
        "    ans.append(n_bucket)\n",
        "\n",
        "output = {\n",
        "    \"agentsCount\": 2,\n",
        "    \"orders\": [\n",
        "               \n",
        "    ]\n",
        "}\n",
        "print(len(ans))\n",
        "for bucket, bucket_items in zip(ans, paths):\n",
        "    print(bucket)\n",
        "    print(bucket_items)\n",
        "    res = normolize_path(bucket, [sx, sy])\n",
        "    bucket = {\n",
        "        # Сюда нужно добавить item из bucket_items\n",
        "        \"items\": convert_bucket_to_items(bucket_items),\n",
        "        \"path\": [\n",
        "             \n",
        "        ]\n",
        "    }\n",
        "    for x, y in res:\n",
        "        place = {\n",
        "            \"x\": x,\n",
        "            \"y\": y\n",
        "        }\n",
        "        bucket['path'].append(place)\n",
        "    output['orders'].append(bucket)\n",
        "#print(json.dumps(output, indent=2))\n",
        "with open(\"visual_sample_order.json\", \"w\") as f:\n",
        "    json.dump(output, f, indent=2)         "
      ],
      "metadata": {
        "id": "ylhPa9u0UhOO",
        "outputId": "f9a552ea-0b30-4217-ddb4-dc1aa1fda2cd",
        "colab": {
          "base_uri": "https://localhost:8080/"
        }
      },
      "execution_count": 21,
      "outputs": [
        {
          "output_type": "stream",
          "name": "stdout",
          "text": [
            "10\n",
            "[[9, 7], [7, 3], [2, 3], [1, 3], [3, 3], [1, 3]]\n",
            "[{'block_x': 1, 'block_y': 1, 'cnt': 4, 'floor': 1, 'id': 82408055, 'row': 3, 'section': 7}, {'block_x': 1, 'block_y': 1, 'cnt': 3, 'floor': 1, 'id': 80476859, 'row': 3, 'section': 2}, {'block_x': 1, 'block_y': 1, 'cnt': 1, 'floor': 1, 'id': 27038923, 'row': 3, 'section': 1}, {'block_x': 1, 'block_y': 1, 'cnt': 1, 'floor': 1, 'id': 88906902, 'row': 2, 'section': 3}, {'block_x': 1, 'block_y': 1, 'cnt': 2, 'floor': 1, 'id': 22895628, 'row': 2, 'section': 1}]\n",
            "[[9, 7], [7, 3], [3, 3], [3, 3], [1, 3]]\n",
            "[{'block_x': 1, 'block_y': 1, 'cnt': 4, 'floor': 1, 'id': 82408055, 'row': 3, 'section': 7}, {'block_x': 1, 'block_y': 1, 'cnt': 1, 'floor': 1, 'id': 88906902, 'row': 2, 'section': 3}, {'block_x': 1, 'block_y': 1, 'cnt': 1, 'floor': 1, 'id': 56193990, 'row': 3, 'section': 3}, {'block_x': 1, 'block_y': 1, 'cnt': 2, 'floor': 1, 'id': 22895628, 'row': 2, 'section': 1}]\n",
            "[[9, 7], [7, 0]]\n",
            "[{'block_x': 1, 'block_y': 1, 'cnt': 6, 'floor': 1, 'id': 88025244, 'row': 1, 'section': 7}]\n",
            "[[9, 7], [4, 6], [8, 6], [7, 0], [3, 6], [7, 3], [7, 3], [7, 3], [3, 3], [7, 3]]\n",
            "[{'block_x': 1, 'block_y': 1, 'cnt': 1, 'floor': 1, 'id': 39410594, 'row': 4, 'section': 4}, {'block_x': 1, 'block_y': 1, 'cnt': 1, 'floor': 1, 'id': 73428736, 'row': 4, 'section': 8}, {'block_x': 1, 'block_y': 1, 'cnt': 2, 'floor': 1, 'id': 88025244, 'row': 1, 'section': 7}, {'block_x': 1, 'block_y': 1, 'cnt': 2, 'floor': 1, 'id': 31804599, 'row': 4, 'section': 3}, {'block_x': 1, 'block_y': 1, 'cnt': 1, 'floor': 1, 'id': 39410594, 'row': 2, 'section': 7}, {'block_x': 1, 'block_y': 1, 'cnt': 1, 'floor': 1, 'id': 39410594, 'row': 2, 'section': 7}, {'block_x': 1, 'block_y': 1, 'cnt': 1, 'floor': 1, 'id': 39410594, 'row': 2, 'section': 7}, {'block_x': 1, 'block_y': 1, 'cnt': 1, 'floor': 1, 'id': 88906902, 'row': 2, 'section': 3}, {'block_x': 1, 'block_y': 1, 'cnt': 2, 'floor': 1, 'id': 82408055, 'row': 3, 'section': 7}]\n",
            "[[9, 7], [7, 3], [7, 3], [7, 3], [6, 3], [3, 6], [2, 6], [4, 6], [1, 3], [1, 3], [3, 3], [7, 3], [3, 3]]\n",
            "[{'block_x': 1, 'block_y': 1, 'cnt': 1, 'floor': 1, 'id': 39410594, 'row': 2, 'section': 7}, {'block_x': 1, 'block_y': 1, 'cnt': 2, 'floor': 1, 'id': 82408055, 'row': 3, 'section': 7}, {'block_x': 1, 'block_y': 1, 'cnt': 1, 'floor': 1, 'id': 39410594, 'row': 2, 'section': 7}, {'block_x': 1, 'block_y': 1, 'cnt': 2, 'floor': 1, 'id': 81522366, 'row': 3, 'section': 6}, {'block_x': 1, 'block_y': 1, 'cnt': 2, 'floor': 1, 'id': 31804599, 'row': 4, 'section': 3}, {'block_x': 1, 'block_y': 1, 'cnt': 1, 'floor': 1, 'id': 71827305, 'row': 4, 'section': 2}, {'block_x': 1, 'block_y': 1, 'cnt': 1, 'floor': 1, 'id': 39410594, 'row': 4, 'section': 4}, {'block_x': 1, 'block_y': 1, 'cnt': 1, 'floor': 1, 'id': 27038923, 'row': 3, 'section': 1}, {'block_x': 1, 'block_y': 1, 'cnt': 1, 'floor': 1, 'id': 27038923, 'row': 3, 'section': 1}, {'block_x': 1, 'block_y': 1, 'cnt': 2, 'floor': 1, 'id': 56193990, 'row': 3, 'section': 3}, {'block_x': 1, 'block_y': 1, 'cnt': 1, 'floor': 1, 'id': 39410594, 'row': 2, 'section': 7}, {'block_x': 1, 'block_y': 1, 'cnt': 1, 'floor': 1, 'id': 88906902, 'row': 2, 'section': 3}]\n",
            "[[9, 7], [3, 3], [3, 3], [3, 3], [7, 3], [7, 3]]\n",
            "[{'block_x': 1, 'block_y': 1, 'cnt': 1, 'floor': 1, 'id': 56193990, 'row': 3, 'section': 3}, {'block_x': 1, 'block_y': 1, 'cnt': 1, 'floor': 1, 'id': 56193990, 'row': 3, 'section': 3}, {'block_x': 1, 'block_y': 1, 'cnt': 1, 'floor': 1, 'id': 56193990, 'row': 3, 'section': 3}, {'block_x': 1, 'block_y': 1, 'cnt': 1, 'floor': 1, 'id': 39410594, 'row': 2, 'section': 7}, {'block_x': 1, 'block_y': 1, 'cnt': 2, 'floor': 1, 'id': 39410594, 'row': 2, 'section': 7}]\n",
            "[[9, 7], [3, 0], [2, 6], [2, 6], [4, 6], [4, 6], [3, 3], [5, 3], [5, 3]]\n",
            "[{'block_x': 1, 'block_y': 1, 'cnt': 2, 'floor': 1, 'id': 91053577, 'row': 1, 'section': 3}, {'block_x': 1, 'block_y': 1, 'cnt': 1, 'floor': 1, 'id': 71827305, 'row': 4, 'section': 2}, {'block_x': 1, 'block_y': 1, 'cnt': 1, 'floor': 1, 'id': 71827305, 'row': 4, 'section': 2}, {'block_x': 1, 'block_y': 1, 'cnt': 1, 'floor': 1, 'id': 39410594, 'row': 4, 'section': 4}, {'block_x': 1, 'block_y': 1, 'cnt': 4, 'floor': 1, 'id': 39410594, 'row': 4, 'section': 4}, {'block_x': 1, 'block_y': 1, 'cnt': 1, 'floor': 1, 'id': 88906902, 'row': 2, 'section': 3}, {'block_x': 1, 'block_y': 1, 'cnt': 2, 'floor': 1, 'id': 82408055, 'row': 2, 'section': 5}, {'block_x': 1, 'block_y': 1, 'cnt': 4, 'floor': 1, 'id': 82408055, 'row': 2, 'section': 5}]\n",
            "[[9, 7], [5, 3], [5, 3], [3, 3], [5, 3]]\n",
            "[{'block_x': 1, 'block_y': 1, 'cnt': 1, 'floor': 1, 'id': 60108367, 'row': 3, 'section': 5}, {'block_x': 1, 'block_y': 1, 'cnt': 1, 'floor': 1, 'id': 60108367, 'row': 3, 'section': 5}, {'block_x': 1, 'block_y': 1, 'cnt': 1, 'floor': 1, 'id': 88906902, 'row': 2, 'section': 3}, {'block_x': 1, 'block_y': 1, 'cnt': 1, 'floor': 1, 'id': 60108367, 'row': 3, 'section': 5}]\n",
            "[[9, 7], [4, 6]]\n",
            "[{'block_x': 1, 'block_y': 1, 'cnt': 4, 'floor': 1, 'id': 39410594, 'row': 4, 'section': 4}]\n",
            "[[9, 7], [8, 3], [5, 3], [5, 3]]\n",
            "[{'block_x': 1, 'block_y': 1, 'cnt': 1, 'floor': 1, 'id': 71827305, 'row': 3, 'section': 8}, {'block_x': 1, 'block_y': 1, 'cnt': 1, 'floor': 1, 'id': 60108367, 'row': 3, 'section': 5}, {'block_x': 1, 'block_y': 1, 'cnt': 1, 'floor': 1, 'id': 60108367, 'row': 3, 'section': 5}]\n"
          ]
        }
      ]
    },
    {
      "cell_type": "code",
      "source": [
        ""
      ],
      "metadata": {
        "id": "AbXywexi1kZ0"
      },
      "execution_count": null,
      "outputs": []
    }
  ]
}